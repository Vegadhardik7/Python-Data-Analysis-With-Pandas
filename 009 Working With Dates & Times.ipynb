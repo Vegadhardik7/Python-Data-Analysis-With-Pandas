{
 "cells": [
  {
   "cell_type": "code",
   "execution_count": 1,
   "metadata": {},
   "outputs": [],
   "source": [
    "import pandas as pd\n",
    "import datetime as dt"
   ]
  },
  {
   "cell_type": "markdown",
   "metadata": {},
   "source": [
    "# Review of python's datetime module"
   ]
  },
  {
   "cell_type": "markdown",
   "metadata": {},
   "source": [
    "<br>\n",
    "____________________________________________________________________________________________________________________________\n",
    "\n",
    "### Date"
   ]
  },
  {
   "cell_type": "code",
   "execution_count": 2,
   "metadata": {},
   "outputs": [
    {
     "name": "stdout",
     "output_type": "stream",
     "text": [
      "Someday:  2016-04-12\n",
      "Year:  2016\n",
      "Month:  4\n",
      "Day:  12\n"
     ]
    }
   ],
   "source": [
    "someday = dt.date(2016, 4, 12)\n",
    "print(\"Someday: \", someday)\n",
    "\n",
    "print(\"Year: \",someday.year)\n",
    "\n",
    "print(\"Month: \",someday.month)\n",
    "\n",
    "print(\"Day: \",someday.day)"
   ]
  },
  {
   "cell_type": "markdown",
   "metadata": {},
   "source": [
    "<br>\n",
    "____________________________________________________________________________________________________________________________\n",
    "\n",
    "### Datetime"
   ]
  },
  {
   "cell_type": "code",
   "execution_count": 3,
   "metadata": {},
   "outputs": [
    {
     "data": {
      "text/plain": [
       "datetime.datetime(2016, 1, 12, 0, 0)"
      ]
     },
     "execution_count": 3,
     "metadata": {},
     "output_type": "execute_result"
    }
   ],
   "source": [
    "dt.datetime(2016, 1, 12)"
   ]
  },
  {
   "cell_type": "code",
   "execution_count": 4,
   "metadata": {},
   "outputs": [
    {
     "data": {
      "text/plain": [
       "datetime.datetime(2016, 1, 12, 8, 15, 20)"
      ]
     },
     "execution_count": 4,
     "metadata": {},
     "output_type": "execute_result"
    }
   ],
   "source": [
    "dt.datetime(2016, 1, 12, 8, 15, 20)"
   ]
  },
  {
   "cell_type": "code",
   "execution_count": 5,
   "metadata": {},
   "outputs": [
    {
     "data": {
      "text/plain": [
       "'2016-01-12 08:15:20'"
      ]
     },
     "execution_count": 5,
     "metadata": {},
     "output_type": "execute_result"
    }
   ],
   "source": [
    "str(dt.datetime(2016, 1, 12, 8, 15, 20))"
   ]
  },
  {
   "cell_type": "code",
   "execution_count": 6,
   "metadata": {},
   "outputs": [
    {
     "name": "stdout",
     "output_type": "stream",
     "text": [
      "Sometime:  2016-01-12 08:15:20\n",
      "Year:  2016\n",
      "Month:  1\n",
      "Day:  12\n",
      "Hr:  8\n",
      "Mins:  15\n",
      "Sec:  20\n"
     ]
    }
   ],
   "source": [
    "sometime = dt.datetime(2016, 1, 12, 8, 15, 20)\n",
    "print(\"Sometime: \", sometime)\n",
    "\n",
    "print(\"Year: \",sometime.year)\n",
    "\n",
    "print(\"Month: \",sometime.month)\n",
    "\n",
    "print(\"Day: \",sometime.day)\n",
    "\n",
    "print(\"Hr: \",sometime.hour)\n",
    "\n",
    "print(\"Mins: \",sometime.minute)\n",
    "\n",
    "print(\"Sec: \",sometime.second)"
   ]
  },
  {
   "cell_type": "markdown",
   "metadata": {},
   "source": [
    "<br>\n",
    "____________________________________________________________________________________________________________________________\n",
    "\n",
    "### Pandas Timestamp object"
   ]
  },
  {
   "cell_type": "code",
   "execution_count": 7,
   "metadata": {},
   "outputs": [
    {
     "name": "stdout",
     "output_type": "stream",
     "text": [
      "2015-03-01 00:00:00\n",
      "2015-03-01 00:00:00\n",
      "2015-03-01 00:00:00\n",
      "2015-03-01 00:00:00\n",
      "2012-03-22 00:00:00\n",
      "2016-03-23 06:35:30\n",
      "2016-03-23 18:35:30\n"
     ]
    }
   ],
   "source": [
    "print(pd.Timestamp(\"2015-03-01\"))      # YYYY-MM-DD\n",
    "\n",
    "print(pd.Timestamp(\"2015/03/01\"))      # YYYY-MM-DD\n",
    "\n",
    "print(pd.Timestamp(\"2015,01,03\"))      # YYYY-DD-MM  \n",
    "\n",
    "print(pd.Timestamp(\"3,1,15\"))          # MM-DD-YYYY\n",
    "\n",
    "print(pd.Timestamp(\"3/22/2012\"))       # Automatic Detection\n",
    "\n",
    "print(pd.Timestamp(\"2016-03-23 06:35:30\"))\n",
    "\n",
    "print(pd.Timestamp(\"2016-03-23 06:35:30 PM\"))"
   ]
  },
  {
   "cell_type": "markdown",
   "metadata": {},
   "source": [
    "<br>\n",
    "____________________________________________________________________________________________________________________________\n",
    "\n",
    "### Pandas DateTimeIndex Object"
   ]
  },
  {
   "cell_type": "code",
   "execution_count": 8,
   "metadata": {},
   "outputs": [],
   "source": [
    "dates = ['2016-01-02','2019-05-12','2021-12-22']"
   ]
  },
  {
   "cell_type": "code",
   "execution_count": 9,
   "metadata": {},
   "outputs": [
    {
     "data": {
      "text/plain": [
       "DatetimeIndex(['2016-01-02', '2019-05-12', '2021-12-22'], dtype='datetime64[ns]', freq=None)"
      ]
     },
     "execution_count": 9,
     "metadata": {},
     "output_type": "execute_result"
    }
   ],
   "source": [
    "pd.DatetimeIndex(dates)"
   ]
  },
  {
   "cell_type": "code",
   "execution_count": 10,
   "metadata": {},
   "outputs": [
    {
     "data": {
      "text/plain": [
       "DatetimeIndex(['2016-01-10', '1994-06-13', '2003-12-23'], dtype='datetime64[ns]', freq=None)"
      ]
     },
     "execution_count": 10,
     "metadata": {},
     "output_type": "execute_result"
    }
   ],
   "source": [
    "dates = [dt.date(2016, 1, 10), dt.date(1994, 6, 13), dt.date(2003, 12, 23)]\n",
    "\n",
    "dt_index = pd.DatetimeIndex(dates)\n",
    "\n",
    "dt_index"
   ]
  },
  {
   "cell_type": "code",
   "execution_count": 11,
   "metadata": {},
   "outputs": [
    {
     "data": {
      "text/plain": [
       "2016-01-10    100\n",
       "1994-06-13    200\n",
       "2003-12-23    300\n",
       "dtype: int64"
      ]
     },
     "execution_count": 11,
     "metadata": {},
     "output_type": "execute_result"
    }
   ],
   "source": [
    "values = [100, 200, 300]\n",
    "pd.Series(data = values, index = dt_index)"
   ]
  },
  {
   "cell_type": "markdown",
   "metadata": {},
   "source": [
    "<br>\n",
    "____________________________________________________________________________________________________________________________\n",
    "\n",
    "### pd.to_datetime() method"
   ]
  },
  {
   "cell_type": "code",
   "execution_count": 12,
   "metadata": {},
   "outputs": [
    {
     "name": "stdout",
     "output_type": "stream",
     "text": [
      "2009-04-19 00:00:00\n",
      "2005-01-01 00:00:00\n",
      "2015-01-01 14:35:22\n",
      "DatetimeIndex(['2015-09-12', '2015-09-12', '2016-01-01', '1996-07-04'], dtype='datetime64[ns]', freq=None)\n"
     ]
    }
   ],
   "source": [
    "print(pd.to_datetime(\"2009-04-19\"))\n",
    "\n",
    "print(pd.to_datetime(dt.date(2005,1,1)))\n",
    "\n",
    "print(pd.to_datetime(dt.datetime(2015,1,1, 14,35,22)))\n",
    "\n",
    "print(pd.to_datetime([\"2015-09-12\", \"2015/09/12\", \"2016\", \"July 4th, 1996\"]))"
   ]
  },
  {
   "cell_type": "code",
   "execution_count": 13,
   "metadata": {},
   "outputs": [
    {
     "data": {
      "text/plain": [
       "0   2015-09-12\n",
       "1   2015-09-12\n",
       "2   2016-01-01\n",
       "3   1996-07-04\n",
       "dtype: datetime64[ns]"
      ]
     },
     "execution_count": 13,
     "metadata": {},
     "output_type": "execute_result"
    }
   ],
   "source": [
    "values = pd.Series([\"2015-09-12\", \"2015/09/12\", \"2016\", \"July 4th, 1996\"])\n",
    "\n",
    "pd.to_datetime(values)"
   ]
  },
  {
   "cell_type": "code",
   "execution_count": 14,
   "metadata": {},
   "outputs": [
    {
     "data": {
      "text/plain": [
       "0   2015-09-12\n",
       "1   2015-09-12\n",
       "2          NaT\n",
       "3   2016-01-01\n",
       "4   1996-07-04\n",
       "5          NaT\n",
       "dtype: datetime64[ns]"
      ]
     },
     "execution_count": 14,
     "metadata": {},
     "output_type": "execute_result"
    }
   ],
   "source": [
    "values = pd.Series([\"2015-09-12\", \"2015/09/12\", \"Hello\", \"2016\", \"July 4th, 1996\", \"2015/28/28\"])\n",
    "\n",
    "pd.to_datetime(values, errors='coerce')  # errors='coerce' avoid errors "
   ]
  },
  {
   "cell_type": "code",
   "execution_count": 15,
   "metadata": {},
   "outputs": [
    {
     "data": {
      "text/plain": [
       "DatetimeIndex(['2021-04-17 18:26:21', '2021-04-11 06:26:21',\n",
       "               '2021-02-18 06:26:21'],\n",
       "              dtype='datetime64[ns]', freq=None)"
      ]
     },
     "execution_count": 15,
     "metadata": {},
     "output_type": "execute_result"
    }
   ],
   "source": [
    "# Unix-Time\n",
    "\n",
    "lst = [1618683981, 1618122381, 1613629581]\n",
    "\n",
    "pd.to_datetime(lst, unit='s')"
   ]
  },
  {
   "cell_type": "markdown",
   "metadata": {},
   "source": [
    "<br>\n",
    "____________________________________________________________________________________________________________________________\n",
    "\n",
    "### pd.date_range()"
   ]
  },
  {
   "cell_type": "markdown",
   "metadata": {},
   "source": [
    "####  freq='D' : Frequency of 1 days"
   ]
  },
  {
   "cell_type": "code",
   "execution_count": 16,
   "metadata": {},
   "outputs": [
    {
     "data": {
      "text/plain": [
       "DatetimeIndex(['2016-01-01', '2016-01-02', '2016-01-03', '2016-01-04',\n",
       "               '2016-01-05', '2016-01-06', '2016-01-07', '2016-01-08',\n",
       "               '2016-01-09', '2016-01-10'],\n",
       "              dtype='datetime64[ns]', freq='D')"
      ]
     },
     "execution_count": 16,
     "metadata": {},
     "output_type": "execute_result"
    }
   ],
   "source": [
    "# 2 or more parameters are required\n",
    "\n",
    "times = pd.date_range(start=\"2016-01-01\", end=\"2016-01-10\", freq='D')\n",
    "times"
   ]
  },
  {
   "cell_type": "code",
   "execution_count": 17,
   "metadata": {},
   "outputs": [
    {
     "data": {
      "text/plain": [
       "pandas.core.indexes.datetimes.DatetimeIndex"
      ]
     },
     "execution_count": 17,
     "metadata": {},
     "output_type": "execute_result"
    }
   ],
   "source": [
    "type(times)"
   ]
  },
  {
   "cell_type": "code",
   "execution_count": 18,
   "metadata": {},
   "outputs": [
    {
     "data": {
      "text/plain": [
       "Timestamp('2016-01-01 00:00:00', freq='D')"
      ]
     },
     "execution_count": 18,
     "metadata": {},
     "output_type": "execute_result"
    }
   ],
   "source": [
    "times[0]"
   ]
  },
  {
   "cell_type": "markdown",
   "metadata": {},
   "source": [
    "####  freq='2D' : Frequency of 2 days"
   ]
  },
  {
   "cell_type": "code",
   "execution_count": 19,
   "metadata": {},
   "outputs": [
    {
     "data": {
      "text/plain": [
       "DatetimeIndex(['2016-01-01', '2016-01-03', '2016-01-05', '2016-01-07',\n",
       "               '2016-01-09'],\n",
       "              dtype='datetime64[ns]', freq='2D')"
      ]
     },
     "execution_count": 19,
     "metadata": {},
     "output_type": "execute_result"
    }
   ],
   "source": [
    "times2 = pd.date_range(start=\"2016-01-01\", end=\"2016-01-10\", freq='2D')\n",
    "times2"
   ]
  },
  {
   "cell_type": "markdown",
   "metadata": {},
   "source": [
    "<br>\n",
    "______________________________________________________________________________________________________________________________\n",
    "\n",
    "####  freq='B' : Include only Business Days"
   ]
  },
  {
   "cell_type": "code",
   "execution_count": 20,
   "metadata": {},
   "outputs": [
    {
     "data": {
      "text/plain": [
       "DatetimeIndex(['2016-01-01', '2016-01-04', '2016-01-05', '2016-01-06',\n",
       "               '2016-01-07', '2016-01-08'],\n",
       "              dtype='datetime64[ns]', freq='B')"
      ]
     },
     "execution_count": 20,
     "metadata": {},
     "output_type": "execute_result"
    }
   ],
   "source": [
    "times3 = pd.date_range(start=\"2016-01-01\", end=\"2016-01-10\", freq='B')\n",
    "times3"
   ]
  },
  {
   "cell_type": "markdown",
   "metadata": {},
   "source": [
    "<br>\n",
    "______________________________________________________________________________________________________________________________\n",
    "\n",
    "####  freq='W' : Include only week Days"
   ]
  },
  {
   "cell_type": "code",
   "execution_count": 21,
   "metadata": {},
   "outputs": [
    {
     "data": {
      "text/plain": [
       "DatetimeIndex(['2016-01-03', '2016-01-10'], dtype='datetime64[ns]', freq='W-SUN')"
      ]
     },
     "execution_count": 21,
     "metadata": {},
     "output_type": "execute_result"
    }
   ],
   "source": [
    "times4 = pd.date_range(start=\"2016-01-01\", end=\"2016-01-10\", freq='W')\n",
    "times4"
   ]
  },
  {
   "cell_type": "markdown",
   "metadata": {},
   "source": [
    "####  freq='W-MON' : Include Week Days from which we have to start"
   ]
  },
  {
   "cell_type": "code",
   "execution_count": 22,
   "metadata": {},
   "outputs": [
    {
     "data": {
      "text/plain": [
       "DatetimeIndex(['2016-01-04'], dtype='datetime64[ns]', freq='W-MON')"
      ]
     },
     "execution_count": 22,
     "metadata": {},
     "output_type": "execute_result"
    }
   ],
   "source": [
    "times5 = pd.date_range(start=\"2016-01-01\", end=\"2016-01-10\", freq='W-MON')\n",
    "times5"
   ]
  },
  {
   "cell_type": "markdown",
   "metadata": {},
   "source": [
    "<br>\n",
    "______________________________________________________________________________________________________________________________\n",
    "\n",
    "####  freq='H' : Include Hours"
   ]
  },
  {
   "cell_type": "code",
   "execution_count": 23,
   "metadata": {},
   "outputs": [
    {
     "data": {
      "text/plain": [
       "DatetimeIndex(['2016-01-01 00:00:00', '2016-01-01 01:00:00',\n",
       "               '2016-01-01 02:00:00', '2016-01-01 03:00:00',\n",
       "               '2016-01-01 04:00:00', '2016-01-01 05:00:00',\n",
       "               '2016-01-01 06:00:00', '2016-01-01 07:00:00',\n",
       "               '2016-01-01 08:00:00', '2016-01-01 09:00:00',\n",
       "               ...\n",
       "               '2016-01-09 15:00:00', '2016-01-09 16:00:00',\n",
       "               '2016-01-09 17:00:00', '2016-01-09 18:00:00',\n",
       "               '2016-01-09 19:00:00', '2016-01-09 20:00:00',\n",
       "               '2016-01-09 21:00:00', '2016-01-09 22:00:00',\n",
       "               '2016-01-09 23:00:00', '2016-01-10 00:00:00'],\n",
       "              dtype='datetime64[ns]', length=217, freq='H')"
      ]
     },
     "execution_count": 23,
     "metadata": {},
     "output_type": "execute_result"
    }
   ],
   "source": [
    "times6 = pd.date_range(start=\"2016-01-01\", end=\"2016-01-10\", freq='H')\n",
    "times6"
   ]
  },
  {
   "cell_type": "markdown",
   "metadata": {},
   "source": [
    "####  freq='H' : Include Hours in certain intervals"
   ]
  },
  {
   "cell_type": "code",
   "execution_count": 24,
   "metadata": {},
   "outputs": [
    {
     "data": {
      "text/plain": [
       "DatetimeIndex(['2016-01-01 00:00:00', '2016-01-01 02:00:00',\n",
       "               '2016-01-01 04:00:00', '2016-01-01 06:00:00',\n",
       "               '2016-01-01 08:00:00', '2016-01-01 10:00:00',\n",
       "               '2016-01-01 12:00:00', '2016-01-01 14:00:00',\n",
       "               '2016-01-01 16:00:00', '2016-01-01 18:00:00',\n",
       "               ...\n",
       "               '2016-01-09 06:00:00', '2016-01-09 08:00:00',\n",
       "               '2016-01-09 10:00:00', '2016-01-09 12:00:00',\n",
       "               '2016-01-09 14:00:00', '2016-01-09 16:00:00',\n",
       "               '2016-01-09 18:00:00', '2016-01-09 20:00:00',\n",
       "               '2016-01-09 22:00:00', '2016-01-10 00:00:00'],\n",
       "              dtype='datetime64[ns]', length=109, freq='2H')"
      ]
     },
     "execution_count": 24,
     "metadata": {},
     "output_type": "execute_result"
    }
   ],
   "source": [
    "# every 2 hrs\n",
    "\n",
    "times7 = pd.date_range(start=\"2016-01-01\", end=\"2016-01-10\", freq='2H')\n",
    "times7"
   ]
  },
  {
   "cell_type": "markdown",
   "metadata": {},
   "source": [
    "<br>\n",
    "______________________________________________________________________________________________________________________________\n",
    "\n",
    "####  freq='M' : Include Months last days"
   ]
  },
  {
   "cell_type": "code",
   "execution_count": 25,
   "metadata": {},
   "outputs": [
    {
     "data": {
      "text/plain": [
       "DatetimeIndex(['2016-01-31', '2016-02-29', '2016-03-31', '2016-04-30',\n",
       "               '2016-05-31', '2016-06-30', '2016-07-31', '2016-08-31',\n",
       "               '2016-09-30', '2016-10-31'],\n",
       "              dtype='datetime64[ns]', freq='M')"
      ]
     },
     "execution_count": 25,
     "metadata": {},
     "output_type": "execute_result"
    }
   ],
   "source": [
    "times8 = pd.date_range(start=\"2016-01-01\", end=\"2016-11-15\", freq='M')\n",
    "times8"
   ]
  },
  {
   "cell_type": "markdown",
   "metadata": {},
   "source": [
    "####  freq='6M' : Include 6 Months last days in certain intervals"
   ]
  },
  {
   "cell_type": "code",
   "execution_count": 26,
   "metadata": {},
   "outputs": [
    {
     "data": {
      "text/plain": [
       "DatetimeIndex(['2016-01-31', '2016-07-31'], dtype='datetime64[ns]', freq='6M')"
      ]
     },
     "execution_count": 26,
     "metadata": {},
     "output_type": "execute_result"
    }
   ],
   "source": [
    "times9 = pd.date_range(start=\"2016-01-01\", end=\"2016-11-10\", freq='6M')\n",
    "times9"
   ]
  },
  {
   "cell_type": "markdown",
   "metadata": {},
   "source": [
    "####  freq='MS' : Include Start of the Months in certain intervals"
   ]
  },
  {
   "cell_type": "code",
   "execution_count": 27,
   "metadata": {},
   "outputs": [
    {
     "data": {
      "text/plain": [
       "DatetimeIndex(['2016-01-01', '2016-02-01', '2016-03-01', '2016-04-01',\n",
       "               '2016-05-01', '2016-06-01', '2016-07-01', '2016-08-01',\n",
       "               '2016-09-01', '2016-10-01', '2016-11-01'],\n",
       "              dtype='datetime64[ns]', freq='MS')"
      ]
     },
     "execution_count": 27,
     "metadata": {},
     "output_type": "execute_result"
    }
   ],
   "source": [
    "times10 = pd.date_range(start=\"2016-01-01\", end=\"2016-11-10\", freq='MS')\n",
    "times10"
   ]
  },
  {
   "cell_type": "markdown",
   "metadata": {},
   "source": [
    "<br>\n",
    "______________________________________________________________________________________________________________________________\n",
    "\n",
    "####  freq='A' : Include last day of each year"
   ]
  },
  {
   "cell_type": "code",
   "execution_count": 28,
   "metadata": {},
   "outputs": [
    {
     "data": {
      "text/plain": [
       "DatetimeIndex(['2016-12-31', '2017-12-31', '2018-12-31', '2019-12-31',\n",
       "               '2020-12-31', '2021-12-31', '2022-12-31', '2023-12-31',\n",
       "               '2024-12-31', '2025-12-31', '2026-12-31', '2027-12-31',\n",
       "               '2028-12-31', '2029-12-31', '2030-12-31', '2031-12-31',\n",
       "               '2032-12-31', '2033-12-31', '2034-12-31', '2035-12-31',\n",
       "               '2036-12-31', '2037-12-31', '2038-12-31', '2039-12-31',\n",
       "               '2040-12-31', '2041-12-31', '2042-12-31', '2043-12-31',\n",
       "               '2044-12-31', '2045-12-31', '2046-12-31', '2047-12-31',\n",
       "               '2048-12-31', '2049-12-31'],\n",
       "              dtype='datetime64[ns]', freq='A-DEC')"
      ]
     },
     "execution_count": 28,
     "metadata": {},
     "output_type": "execute_result"
    }
   ],
   "source": [
    "times11 = pd.date_range(start=\"2016-01-01\", end=\"2050-01-01\", freq='A')\n",
    "times11"
   ]
  },
  {
   "cell_type": "markdown",
   "metadata": {},
   "source": [
    "<br>\n",
    "______________________________________________________________________________________________________________________________"
   ]
  },
  {
   "cell_type": "markdown",
   "metadata": {},
   "source": [
    "### Using periods = N value"
   ]
  },
  {
   "cell_type": "code",
   "execution_count": 29,
   "metadata": {},
   "outputs": [
    {
     "name": "stdout",
     "output_type": "stream",
     "text": [
      "DatetimeIndex(['2016-01-01', '2016-01-02', '2016-01-03', '2016-01-04',\n",
      "               '2016-01-05', '2016-01-06', '2016-01-07', '2016-01-08',\n",
      "               '2016-01-09', '2016-01-10', '2016-01-11', '2016-01-12',\n",
      "               '2016-01-13', '2016-01-14', '2016-01-15', '2016-01-16',\n",
      "               '2016-01-17', '2016-01-18', '2016-01-19', '2016-01-20',\n",
      "               '2016-01-21', '2016-01-22', '2016-01-23', '2016-01-24',\n",
      "               '2016-01-25'],\n",
      "              dtype='datetime64[ns]', freq='D')\n",
      "LENGTH: 25\n"
     ]
    }
   ],
   "source": [
    "# period of 25 days\n",
    "\n",
    "dates = pd.date_range(start=\"2016-01-01\", periods=25, freq='D')\n",
    "print(dates)\n",
    "print(\"LENGTH:\",len(dates))"
   ]
  },
  {
   "cell_type": "code",
   "execution_count": 30,
   "metadata": {},
   "outputs": [
    {
     "name": "stdout",
     "output_type": "stream",
     "text": [
      "DatetimeIndex(['2016-01-01', '2016-01-04', '2016-01-05', '2016-01-06',\n",
      "               '2016-01-07', '2016-01-08', '2016-01-11', '2016-01-12',\n",
      "               '2016-01-13', '2016-01-14', '2016-01-15', '2016-01-18',\n",
      "               '2016-01-19', '2016-01-20', '2016-01-21', '2016-01-22',\n",
      "               '2016-01-25', '2016-01-26', '2016-01-27', '2016-01-28',\n",
      "               '2016-01-29', '2016-02-01', '2016-02-02', '2016-02-03',\n",
      "               '2016-02-04', '2016-02-05', '2016-02-08', '2016-02-09',\n",
      "               '2016-02-10', '2016-02-11', '2016-02-12', '2016-02-15',\n",
      "               '2016-02-16', '2016-02-17', '2016-02-18', '2016-02-19',\n",
      "               '2016-02-22', '2016-02-23', '2016-02-24', '2016-02-25',\n",
      "               '2016-02-26', '2016-02-29', '2016-03-01', '2016-03-02',\n",
      "               '2016-03-03', '2016-03-04', '2016-03-07', '2016-03-08',\n",
      "               '2016-03-09', '2016-03-10'],\n",
      "              dtype='datetime64[ns]', freq='B')\n",
      "LENGTH: 50\n"
     ]
    }
   ],
   "source": [
    "# 50 business days \n",
    "\n",
    "dates = pd.date_range(start=\"2016-01-01\", periods=50, freq='B')\n",
    "print(dates)\n",
    "print(\"LENGTH:\",len(dates))"
   ]
  },
  {
   "cell_type": "code",
   "execution_count": 31,
   "metadata": {},
   "outputs": [
    {
     "name": "stdout",
     "output_type": "stream",
     "text": [
      "DatetimeIndex(['2016-01-03', '2016-01-10', '2016-01-17', '2016-01-24',\n",
      "               '2016-01-31', '2016-02-07', '2016-02-14', '2016-02-21',\n",
      "               '2016-02-28', '2016-03-06', '2016-03-13', '2016-03-20',\n",
      "               '2016-03-27', '2016-04-03', '2016-04-10', '2016-04-17',\n",
      "               '2016-04-24', '2016-05-01', '2016-05-08', '2016-05-15',\n",
      "               '2016-05-22', '2016-05-29', '2016-06-05', '2016-06-12',\n",
      "               '2016-06-19', '2016-06-26', '2016-07-03', '2016-07-10',\n",
      "               '2016-07-17', '2016-07-24', '2016-07-31', '2016-08-07',\n",
      "               '2016-08-14', '2016-08-21', '2016-08-28', '2016-09-04',\n",
      "               '2016-09-11', '2016-09-18', '2016-09-25', '2016-10-02',\n",
      "               '2016-10-09', '2016-10-16', '2016-10-23', '2016-10-30',\n",
      "               '2016-11-06', '2016-11-13', '2016-11-20', '2016-11-27',\n",
      "               '2016-12-04', '2016-12-11'],\n",
      "              dtype='datetime64[ns]', freq='W-SUN')\n",
      "LENGTH: 50\n"
     ]
    }
   ],
   "source": [
    "# 50 days seperated by 1 week\n",
    "\n",
    "dates = pd.date_range(start=\"2016-01-01\", periods=50, freq='W')\n",
    "print(dates)\n",
    "print(\"LENGTH:\",len(dates))"
   ]
  },
  {
   "cell_type": "code",
   "execution_count": 32,
   "metadata": {},
   "outputs": [
    {
     "name": "stdout",
     "output_type": "stream",
     "text": [
      "DatetimeIndex(['2016-01-05', '2016-01-12', '2016-01-19', '2016-01-26',\n",
      "               '2016-02-02', '2016-02-09', '2016-02-16', '2016-02-23',\n",
      "               '2016-03-01', '2016-03-08', '2016-03-15', '2016-03-22',\n",
      "               '2016-03-29', '2016-04-05', '2016-04-12', '2016-04-19',\n",
      "               '2016-04-26', '2016-05-03', '2016-05-10', '2016-05-17',\n",
      "               '2016-05-24', '2016-05-31', '2016-06-07', '2016-06-14',\n",
      "               '2016-06-21', '2016-06-28', '2016-07-05', '2016-07-12',\n",
      "               '2016-07-19', '2016-07-26', '2016-08-02', '2016-08-09',\n",
      "               '2016-08-16', '2016-08-23', '2016-08-30', '2016-09-06',\n",
      "               '2016-09-13', '2016-09-20', '2016-09-27', '2016-10-04',\n",
      "               '2016-10-11', '2016-10-18', '2016-10-25', '2016-11-01',\n",
      "               '2016-11-08', '2016-11-15', '2016-11-22', '2016-11-29',\n",
      "               '2016-12-06', '2016-12-13'],\n",
      "              dtype='datetime64[ns]', freq='W-TUE')\n",
      "LENGTH: 50\n"
     ]
    }
   ],
   "source": [
    "# 50 days from start week TUE\n",
    "\n",
    "dates = pd.date_range(start=\"2016-01-01\", periods=50, freq='W-TUE')\n",
    "print(dates)\n",
    "print(\"LENGTH:\",len(dates))"
   ]
  },
  {
   "cell_type": "code",
   "execution_count": 33,
   "metadata": {},
   "outputs": [
    {
     "name": "stdout",
     "output_type": "stream",
     "text": [
      "DatetimeIndex(['2016-01-01', '2016-02-01', '2016-03-01', '2016-04-01',\n",
      "               '2016-05-01', '2016-06-01', '2016-07-01', '2016-08-01',\n",
      "               '2016-09-01', '2016-10-01', '2016-11-01', '2016-12-01',\n",
      "               '2017-01-01', '2017-02-01', '2017-03-01', '2017-04-01',\n",
      "               '2017-05-01', '2017-06-01', '2017-07-01', '2017-08-01',\n",
      "               '2017-09-01', '2017-10-01', '2017-11-01', '2017-12-01',\n",
      "               '2018-01-01', '2018-02-01', '2018-03-01', '2018-04-01',\n",
      "               '2018-05-01', '2018-06-01', '2018-07-01', '2018-08-01',\n",
      "               '2018-09-01', '2018-10-01', '2018-11-01', '2018-12-01',\n",
      "               '2019-01-01', '2019-02-01', '2019-03-01', '2019-04-01',\n",
      "               '2019-05-01', '2019-06-01', '2019-07-01', '2019-08-01',\n",
      "               '2019-09-01', '2019-10-01', '2019-11-01', '2019-12-01',\n",
      "               '2020-01-01', '2020-02-01'],\n",
      "              dtype='datetime64[ns]', freq='MS')\n",
      "LENGTH: 50\n"
     ]
    }
   ],
   "source": [
    "# 50 Months Start Days\n",
    "\n",
    "dates = pd.date_range(start=\"2016-01-01\", periods=50, freq='MS')\n",
    "print(dates)\n",
    "print(\"LENGTH:\",len(dates))"
   ]
  },
  {
   "cell_type": "markdown",
   "metadata": {},
   "source": [
    "<br>\n",
    "______________________________________________________________________________________________________________________________\n",
    "\n",
    "### Using end = N value"
   ]
  },
  {
   "cell_type": "code",
   "execution_count": 34,
   "metadata": {},
   "outputs": [
    {
     "data": {
      "text/plain": [
       "DatetimeIndex(['1999-11-12', '1999-11-13', '1999-11-14', '1999-11-15',\n",
       "               '1999-11-16', '1999-11-17', '1999-11-18', '1999-11-19',\n",
       "               '1999-11-20', '1999-11-21', '1999-11-22', '1999-11-23',\n",
       "               '1999-11-24', '1999-11-25', '1999-11-26', '1999-11-27',\n",
       "               '1999-11-28', '1999-11-29', '1999-11-30', '1999-12-01',\n",
       "               '1999-12-02', '1999-12-03', '1999-12-04', '1999-12-05',\n",
       "               '1999-12-06', '1999-12-07', '1999-12-08', '1999-12-09',\n",
       "               '1999-12-10', '1999-12-11', '1999-12-12', '1999-12-13',\n",
       "               '1999-12-14', '1999-12-15', '1999-12-16', '1999-12-17',\n",
       "               '1999-12-18', '1999-12-19', '1999-12-20', '1999-12-21',\n",
       "               '1999-12-22', '1999-12-23', '1999-12-24', '1999-12-25',\n",
       "               '1999-12-26', '1999-12-27', '1999-12-28', '1999-12-29',\n",
       "               '1999-12-30', '1999-12-31'],\n",
       "              dtype='datetime64[ns]', freq='D')"
      ]
     },
     "execution_count": 34,
     "metadata": {},
     "output_type": "execute_result"
    }
   ],
   "source": [
    "times = pd.date_range(end='1999-12-31', periods=50, freq='D')\n",
    "times"
   ]
  },
  {
   "cell_type": "code",
   "execution_count": 35,
   "metadata": {},
   "outputs": [
    {
     "data": {
      "text/plain": [
       "DatetimeIndex(['1999-10-25', '1999-10-26', '1999-10-27', '1999-10-28',\n",
       "               '1999-10-29', '1999-11-01', '1999-11-02', '1999-11-03',\n",
       "               '1999-11-04', '1999-11-05', '1999-11-08', '1999-11-09',\n",
       "               '1999-11-10', '1999-11-11', '1999-11-12', '1999-11-15',\n",
       "               '1999-11-16', '1999-11-17', '1999-11-18', '1999-11-19',\n",
       "               '1999-11-22', '1999-11-23', '1999-11-24', '1999-11-25',\n",
       "               '1999-11-26', '1999-11-29', '1999-11-30', '1999-12-01',\n",
       "               '1999-12-02', '1999-12-03', '1999-12-06', '1999-12-07',\n",
       "               '1999-12-08', '1999-12-09', '1999-12-10', '1999-12-13',\n",
       "               '1999-12-14', '1999-12-15', '1999-12-16', '1999-12-17',\n",
       "               '1999-12-20', '1999-12-21', '1999-12-22', '1999-12-23',\n",
       "               '1999-12-24', '1999-12-27', '1999-12-28', '1999-12-29',\n",
       "               '1999-12-30', '1999-12-31'],\n",
       "              dtype='datetime64[ns]', freq='B')"
      ]
     },
     "execution_count": 35,
     "metadata": {},
     "output_type": "execute_result"
    }
   ],
   "source": [
    "# get only business days\n",
    "\n",
    "times = pd.date_range(end='1999-12-31', periods=50, freq='B')\n",
    "times"
   ]
  },
  {
   "cell_type": "code",
   "execution_count": 36,
   "metadata": {},
   "outputs": [
    {
     "data": {
      "text/plain": [
       "DatetimeIndex(['1999-01-17', '1999-01-24', '1999-01-31', '1999-02-07',\n",
       "               '1999-02-14', '1999-02-21', '1999-02-28', '1999-03-07',\n",
       "               '1999-03-14', '1999-03-21', '1999-03-28', '1999-04-04',\n",
       "               '1999-04-11', '1999-04-18', '1999-04-25', '1999-05-02',\n",
       "               '1999-05-09', '1999-05-16', '1999-05-23', '1999-05-30',\n",
       "               '1999-06-06', '1999-06-13', '1999-06-20', '1999-06-27',\n",
       "               '1999-07-04', '1999-07-11', '1999-07-18', '1999-07-25',\n",
       "               '1999-08-01', '1999-08-08', '1999-08-15', '1999-08-22',\n",
       "               '1999-08-29', '1999-09-05', '1999-09-12', '1999-09-19',\n",
       "               '1999-09-26', '1999-10-03', '1999-10-10', '1999-10-17',\n",
       "               '1999-10-24', '1999-10-31', '1999-11-07', '1999-11-14',\n",
       "               '1999-11-21', '1999-11-28', '1999-12-05', '1999-12-12',\n",
       "               '1999-12-19', '1999-12-26'],\n",
       "              dtype='datetime64[ns]', freq='W-SUN')"
      ]
     },
     "execution_count": 36,
     "metadata": {},
     "output_type": "execute_result"
    }
   ],
   "source": [
    "# get only SUNDAYS\n",
    "\n",
    "times = pd.date_range(end='1999-12-31', periods=50, freq='W-SUN')\n",
    "times"
   ]
  },
  {
   "cell_type": "code",
   "execution_count": 37,
   "metadata": {},
   "outputs": [
    {
     "data": {
      "text/plain": [
       "DatetimeIndex(['1999-01-22', '1999-01-29', '1999-02-05', '1999-02-12',\n",
       "               '1999-02-19', '1999-02-26', '1999-03-05', '1999-03-12',\n",
       "               '1999-03-19', '1999-03-26', '1999-04-02', '1999-04-09',\n",
       "               '1999-04-16', '1999-04-23', '1999-04-30', '1999-05-07',\n",
       "               '1999-05-14', '1999-05-21', '1999-05-28', '1999-06-04',\n",
       "               '1999-06-11', '1999-06-18', '1999-06-25', '1999-07-02',\n",
       "               '1999-07-09', '1999-07-16', '1999-07-23', '1999-07-30',\n",
       "               '1999-08-06', '1999-08-13', '1999-08-20', '1999-08-27',\n",
       "               '1999-09-03', '1999-09-10', '1999-09-17', '1999-09-24',\n",
       "               '1999-10-01', '1999-10-08', '1999-10-15', '1999-10-22',\n",
       "               '1999-10-29', '1999-11-05', '1999-11-12', '1999-11-19',\n",
       "               '1999-11-26', '1999-12-03', '1999-12-10', '1999-12-17',\n",
       "               '1999-12-24', '1999-12-31'],\n",
       "              dtype='datetime64[ns]', freq='W-FRI')"
      ]
     },
     "execution_count": 37,
     "metadata": {},
     "output_type": "execute_result"
    }
   ],
   "source": [
    "# get only FRIDAY\n",
    "\n",
    "times = pd.date_range(end='1999-12-31', periods=50, freq='W-FRI')\n",
    "times"
   ]
  },
  {
   "cell_type": "code",
   "execution_count": 38,
   "metadata": {},
   "outputs": [
    {
     "data": {
      "text/plain": [
       "DatetimeIndex(['1975-06-01', '1975-12-01', '1976-06-01', '1976-12-01',\n",
       "               '1977-06-01', '1977-12-01', '1978-06-01', '1978-12-01',\n",
       "               '1979-06-01', '1979-12-01', '1980-06-01', '1980-12-01',\n",
       "               '1981-06-01', '1981-12-01', '1982-06-01', '1982-12-01',\n",
       "               '1983-06-01', '1983-12-01', '1984-06-01', '1984-12-01',\n",
       "               '1985-06-01', '1985-12-01', '1986-06-01', '1986-12-01',\n",
       "               '1987-06-01', '1987-12-01', '1988-06-01', '1988-12-01',\n",
       "               '1989-06-01', '1989-12-01', '1990-06-01', '1990-12-01',\n",
       "               '1991-06-01', '1991-12-01', '1992-06-01', '1992-12-01',\n",
       "               '1993-06-01', '1993-12-01', '1994-06-01', '1994-12-01',\n",
       "               '1995-06-01', '1995-12-01', '1996-06-01', '1996-12-01',\n",
       "               '1997-06-01', '1997-12-01', '1998-06-01', '1998-12-01',\n",
       "               '1999-06-01', '1999-12-01'],\n",
       "              dtype='datetime64[ns]', freq='6MS')"
      ]
     },
     "execution_count": 38,
     "metadata": {},
     "output_type": "execute_result"
    }
   ],
   "source": [
    "# get only Months start in every 6 months\n",
    "\n",
    "times = pd.date_range(end='1999-12-31', periods=50, freq='6MS')\n",
    "times"
   ]
  },
  {
   "cell_type": "code",
   "execution_count": 39,
   "metadata": {},
   "outputs": [
    {
     "data": {
      "text/plain": [
       "DatetimeIndex(['1999-12-16 17:00:00', '1999-12-17 00:00:00',\n",
       "               '1999-12-17 07:00:00', '1999-12-17 14:00:00',\n",
       "               '1999-12-17 21:00:00', '1999-12-18 04:00:00',\n",
       "               '1999-12-18 11:00:00', '1999-12-18 18:00:00',\n",
       "               '1999-12-19 01:00:00', '1999-12-19 08:00:00',\n",
       "               '1999-12-19 15:00:00', '1999-12-19 22:00:00',\n",
       "               '1999-12-20 05:00:00', '1999-12-20 12:00:00',\n",
       "               '1999-12-20 19:00:00', '1999-12-21 02:00:00',\n",
       "               '1999-12-21 09:00:00', '1999-12-21 16:00:00',\n",
       "               '1999-12-21 23:00:00', '1999-12-22 06:00:00',\n",
       "               '1999-12-22 13:00:00', '1999-12-22 20:00:00',\n",
       "               '1999-12-23 03:00:00', '1999-12-23 10:00:00',\n",
       "               '1999-12-23 17:00:00', '1999-12-24 00:00:00',\n",
       "               '1999-12-24 07:00:00', '1999-12-24 14:00:00',\n",
       "               '1999-12-24 21:00:00', '1999-12-25 04:00:00',\n",
       "               '1999-12-25 11:00:00', '1999-12-25 18:00:00',\n",
       "               '1999-12-26 01:00:00', '1999-12-26 08:00:00',\n",
       "               '1999-12-26 15:00:00', '1999-12-26 22:00:00',\n",
       "               '1999-12-27 05:00:00', '1999-12-27 12:00:00',\n",
       "               '1999-12-27 19:00:00', '1999-12-28 02:00:00',\n",
       "               '1999-12-28 09:00:00', '1999-12-28 16:00:00',\n",
       "               '1999-12-28 23:00:00', '1999-12-29 06:00:00',\n",
       "               '1999-12-29 13:00:00', '1999-12-29 20:00:00',\n",
       "               '1999-12-30 03:00:00', '1999-12-30 10:00:00',\n",
       "               '1999-12-30 17:00:00', '1999-12-31 00:00:00'],\n",
       "              dtype='datetime64[ns]', freq='7H')"
      ]
     },
     "execution_count": 39,
     "metadata": {},
     "output_type": "execute_result"
    }
   ],
   "source": [
    "# get interval of 7H\n",
    "\n",
    "times = pd.date_range(end='1999-12-31', periods=50, freq='7H')\n",
    "times"
   ]
  },
  {
   "cell_type": "markdown",
   "metadata": {},
   "source": [
    "<br>\n",
    "______________________________________________________________________________________________________________________________\n",
    "\n",
    "### .dt Accessor"
   ]
  },
  {
   "cell_type": "code",
   "execution_count": 40,
   "metadata": {},
   "outputs": [
    {
     "data": {
      "text/plain": [
       "DatetimeIndex(['2000-01-01', '2000-01-13', '2000-01-25', '2000-02-06',\n",
       "               '2000-02-18', '2000-03-01', '2000-03-13', '2000-03-25',\n",
       "               '2000-04-06', '2000-04-18',\n",
       "               ...\n",
       "               '2010-09-05', '2010-09-17', '2010-09-29', '2010-10-11',\n",
       "               '2010-10-23', '2010-11-04', '2010-11-16', '2010-11-28',\n",
       "               '2010-12-10', '2010-12-22'],\n",
       "              dtype='datetime64[ns]', length=335, freq='12D')"
      ]
     },
     "execution_count": 40,
     "metadata": {},
     "output_type": "execute_result"
    }
   ],
   "source": [
    "random_dates = pd.date_range(start=\"2000-01-01\", end=\"2010-12-31\", freq=\"12D\")\n",
    "random_dates"
   ]
  },
  {
   "cell_type": "code",
   "execution_count": 41,
   "metadata": {},
   "outputs": [
    {
     "name": "stdout",
     "output_type": "stream",
     "text": [
      "0     2000-01-01\n",
      "1     2000-01-13\n",
      "2     2000-01-25\n",
      "3     2000-02-06\n",
      "4     2000-02-18\n",
      "         ...    \n",
      "330   2010-11-04\n",
      "331   2010-11-16\n",
      "332   2010-11-28\n",
      "333   2010-12-10\n",
      "334   2010-12-22\n",
      "Length: 335, dtype: datetime64[ns]\n"
     ]
    }
   ],
   "source": [
    "s = pd.Series(random_dates)\n",
    "print(s)"
   ]
  },
  {
   "cell_type": "code",
   "execution_count": 42,
   "metadata": {},
   "outputs": [
    {
     "data": {
      "text/plain": [
       "0       1\n",
       "1      13\n",
       "2      25\n",
       "3       6\n",
       "4      18\n",
       "       ..\n",
       "330     4\n",
       "331    16\n",
       "332    28\n",
       "333    10\n",
       "334    22\n",
       "Length: 335, dtype: int64"
      ]
     },
     "execution_count": 42,
     "metadata": {},
     "output_type": "execute_result"
    }
   ],
   "source": [
    "# Extracting Days\n",
    "\n",
    "s.dt.day"
   ]
  },
  {
   "cell_type": "code",
   "execution_count": 43,
   "metadata": {},
   "outputs": [
    {
     "data": {
      "text/plain": [
       "0      5\n",
       "1      3\n",
       "2      1\n",
       "3      6\n",
       "4      4\n",
       "      ..\n",
       "330    3\n",
       "331    1\n",
       "332    6\n",
       "333    4\n",
       "334    2\n",
       "Length: 335, dtype: int64"
      ]
     },
     "execution_count": 43,
     "metadata": {},
     "output_type": "execute_result"
    }
   ],
   "source": [
    "# Extract Weekday (0: Sunday - 6: Saturday)\n",
    "\n",
    "s.dt.weekday"
   ]
  },
  {
   "cell_type": "code",
   "execution_count": 44,
   "metadata": {},
   "outputs": [
    {
     "data": {
      "text/plain": [
       "0       Saturday\n",
       "1       Thursday\n",
       "2        Tuesday\n",
       "3         Sunday\n",
       "4         Friday\n",
       "         ...    \n",
       "330     Thursday\n",
       "331      Tuesday\n",
       "332       Sunday\n",
       "333       Friday\n",
       "334    Wednesday\n",
       "Length: 335, dtype: object"
      ]
     },
     "execution_count": 44,
     "metadata": {},
     "output_type": "execute_result"
    }
   ],
   "source": [
    "# Extract Weekday Names\n",
    "\n",
    "s.dt.day_name()"
   ]
  },
  {
   "cell_type": "code",
   "execution_count": 45,
   "metadata": {},
   "outputs": [
    {
     "data": {
      "text/plain": [
       "0     2000-01-01\n",
       "5     2000-03-01\n",
       "38    2001-04-01\n",
       "76    2002-07-01\n",
       "109   2003-08-01\n",
       "175   2005-10-01\n",
       "208   2006-11-01\n",
       "218   2007-03-01\n",
       "274   2009-01-01\n",
       "284   2009-05-01\n",
       "307   2010-02-01\n",
       "317   2010-06-01\n",
       "dtype: datetime64[ns]"
      ]
     },
     "execution_count": 45,
     "metadata": {},
     "output_type": "execute_result"
    }
   ],
   "source": [
    "# Extract Month Start\n",
    "\n",
    "mask = s.dt.is_month_start\n",
    "\n",
    "s[mask]"
   ]
  },
  {
   "cell_type": "markdown",
   "metadata": {},
   "source": [
    "<br>\n",
    "____________________________________________________________________________________________________________________________\n",
    "\n",
    "### Import Financial Data set with `pandas_datareader` library"
   ]
  },
  {
   "cell_type": "code",
   "execution_count": 46,
   "metadata": {},
   "outputs": [],
   "source": [
    "import pandas as pd\n",
    "import datetime as dt\n",
    "from pandas_datareader import data"
   ]
  },
  {
   "cell_type": "code",
   "execution_count": 47,
   "metadata": {},
   "outputs": [
    {
     "data": {
      "text/html": [
       "<div>\n",
       "<style scoped>\n",
       "    .dataframe tbody tr th:only-of-type {\n",
       "        vertical-align: middle;\n",
       "    }\n",
       "\n",
       "    .dataframe tbody tr th {\n",
       "        vertical-align: top;\n",
       "    }\n",
       "\n",
       "    .dataframe thead th {\n",
       "        text-align: right;\n",
       "    }\n",
       "</style>\n",
       "<table border=\"1\" class=\"dataframe\">\n",
       "  <thead>\n",
       "    <tr style=\"text-align: right;\">\n",
       "      <th></th>\n",
       "      <th>High</th>\n",
       "      <th>Low</th>\n",
       "      <th>Open</th>\n",
       "      <th>Close</th>\n",
       "      <th>Volume</th>\n",
       "      <th>Adj Close</th>\n",
       "    </tr>\n",
       "    <tr>\n",
       "      <th>Date</th>\n",
       "      <th></th>\n",
       "      <th></th>\n",
       "      <th></th>\n",
       "      <th></th>\n",
       "      <th></th>\n",
       "      <th></th>\n",
       "    </tr>\n",
       "  </thead>\n",
       "  <tbody>\n",
       "    <tr>\n",
       "      <th>2014-12-31</th>\n",
       "      <td>24.000000</td>\n",
       "      <td>22.500000</td>\n",
       "      <td>24.000000</td>\n",
       "      <td>22.500000</td>\n",
       "      <td>55.0</td>\n",
       "      <td>22.500000</td>\n",
       "    </tr>\n",
       "    <tr>\n",
       "      <th>2015-01-02</th>\n",
       "      <td>28.000000</td>\n",
       "      <td>22.000000</td>\n",
       "      <td>28.000000</td>\n",
       "      <td>22.000000</td>\n",
       "      <td>105.0</td>\n",
       "      <td>22.000000</td>\n",
       "    </tr>\n",
       "    <tr>\n",
       "      <th>2015-01-05</th>\n",
       "      <td>23.700001</td>\n",
       "      <td>23.700001</td>\n",
       "      <td>23.700001</td>\n",
       "      <td>23.700001</td>\n",
       "      <td>75.0</td>\n",
       "      <td>23.700001</td>\n",
       "    </tr>\n",
       "    <tr>\n",
       "      <th>2015-01-06</th>\n",
       "      <td>23.700001</td>\n",
       "      <td>23.700001</td>\n",
       "      <td>23.700001</td>\n",
       "      <td>23.700001</td>\n",
       "      <td>0.0</td>\n",
       "      <td>23.700001</td>\n",
       "    </tr>\n",
       "    <tr>\n",
       "      <th>2015-01-07</th>\n",
       "      <td>22.100000</td>\n",
       "      <td>21.100000</td>\n",
       "      <td>22.100000</td>\n",
       "      <td>21.100000</td>\n",
       "      <td>66.0</td>\n",
       "      <td>21.100000</td>\n",
       "    </tr>\n",
       "  </tbody>\n",
       "</table>\n",
       "</div>"
      ],
      "text/plain": [
       "                 High        Low       Open      Close  Volume  Adj Close\n",
       "Date                                                                     \n",
       "2014-12-31  24.000000  22.500000  24.000000  22.500000    55.0  22.500000\n",
       "2015-01-02  28.000000  22.000000  28.000000  22.000000   105.0  22.000000\n",
       "2015-01-05  23.700001  23.700001  23.700001  23.700001    75.0  23.700001\n",
       "2015-01-06  23.700001  23.700001  23.700001  23.700001     0.0  23.700001\n",
       "2015-01-07  22.100000  21.100000  22.100000  21.100000    66.0  21.100000"
      ]
     },
     "execution_count": 47,
     "metadata": {},
     "output_type": "execute_result"
    }
   ],
   "source": [
    "c_name = \"MFST\" # Company from which we want information\n",
    "\n",
    "c_start = \"2015-01-01\"\n",
    "\n",
    "c_end   = \"2020-12-31\"  \n",
    "\n",
    "\n",
    "df = data.DataReader(name = c_name, data_source = 'yahoo', start = c_start, end = c_end)\n",
    "df.head()"
   ]
  },
  {
   "cell_type": "code",
   "execution_count": 48,
   "metadata": {},
   "outputs": [
    {
     "name": "stdout",
     "output_type": "stream",
     "text": [
      "<class 'pandas.core.frame.DataFrame'>\n",
      "DatetimeIndex: 1512 entries, 2014-12-31 to 2020-12-31\n",
      "Data columns (total 6 columns):\n",
      " #   Column     Non-Null Count  Dtype  \n",
      "---  ------     --------------  -----  \n",
      " 0   High       1512 non-null   float64\n",
      " 1   Low        1512 non-null   float64\n",
      " 2   Open       1512 non-null   float64\n",
      " 3   Close      1512 non-null   float64\n",
      " 4   Volume     1512 non-null   float64\n",
      " 5   Adj Close  1512 non-null   float64\n",
      "dtypes: float64(6)\n",
      "memory usage: 82.7 KB\n"
     ]
    }
   ],
   "source": [
    "df.info()"
   ]
  },
  {
   "cell_type": "markdown",
   "metadata": {},
   "source": [
    "<br>\n",
    "____________________________________________________________________________________________________________________________\n",
    "\n",
    "### Selecting from a DataFrame with a DateTimeIndex"
   ]
  },
  {
   "cell_type": "code",
   "execution_count": 49,
   "metadata": {},
   "outputs": [
    {
     "data": {
      "text/plain": [
       "High          26.000000\n",
       "Low           20.200001\n",
       "Open          26.000000\n",
       "Close         25.000000\n",
       "Volume       330.000000\n",
       "Adj Close     25.000000\n",
       "Name: 2015-03-04 00:00:00, dtype: float64"
      ]
     },
     "execution_count": 49,
     "metadata": {},
     "output_type": "execute_result"
    }
   ],
   "source": [
    "df.loc[\"2015-03-04\"]"
   ]
  },
  {
   "cell_type": "code",
   "execution_count": 50,
   "metadata": {},
   "outputs": [
    {
     "data": {
      "text/plain": [
       "High           6.6\n",
       "Low            5.0\n",
       "Open           5.1\n",
       "Close          6.6\n",
       "Volume       223.0\n",
       "Adj Close      6.6\n",
       "Name: 2016-01-21 00:00:00, dtype: float64"
      ]
     },
     "execution_count": 50,
     "metadata": {},
     "output_type": "execute_result"
    }
   ],
   "source": [
    "df.iloc[265]"
   ]
  },
  {
   "cell_type": "code",
   "execution_count": 51,
   "metadata": {},
   "outputs": [
    {
     "data": {
      "text/html": [
       "<div>\n",
       "<style scoped>\n",
       "    .dataframe tbody tr th:only-of-type {\n",
       "        vertical-align: middle;\n",
       "    }\n",
       "\n",
       "    .dataframe tbody tr th {\n",
       "        vertical-align: top;\n",
       "    }\n",
       "\n",
       "    .dataframe thead th {\n",
       "        text-align: right;\n",
       "    }\n",
       "</style>\n",
       "<table border=\"1\" class=\"dataframe\">\n",
       "  <thead>\n",
       "    <tr style=\"text-align: right;\">\n",
       "      <th></th>\n",
       "      <th>High</th>\n",
       "      <th>Low</th>\n",
       "      <th>Open</th>\n",
       "      <th>Close</th>\n",
       "      <th>Volume</th>\n",
       "      <th>Adj Close</th>\n",
       "    </tr>\n",
       "    <tr>\n",
       "      <th>Date</th>\n",
       "      <th></th>\n",
       "      <th></th>\n",
       "      <th></th>\n",
       "      <th></th>\n",
       "      <th></th>\n",
       "      <th></th>\n",
       "    </tr>\n",
       "  </thead>\n",
       "  <tbody>\n",
       "    <tr>\n",
       "      <th>2019-04-15</th>\n",
       "      <td>0.09000</td>\n",
       "      <td>0.0900</td>\n",
       "      <td>0.09000</td>\n",
       "      <td>0.09000</td>\n",
       "      <td>101.0</td>\n",
       "      <td>0.09000</td>\n",
       "    </tr>\n",
       "    <tr>\n",
       "      <th>2019-04-16</th>\n",
       "      <td>0.09000</td>\n",
       "      <td>0.0840</td>\n",
       "      <td>0.08400</td>\n",
       "      <td>0.08400</td>\n",
       "      <td>13102.0</td>\n",
       "      <td>0.08400</td>\n",
       "    </tr>\n",
       "    <tr>\n",
       "      <th>2019-04-17</th>\n",
       "      <td>0.09000</td>\n",
       "      <td>0.0780</td>\n",
       "      <td>0.09000</td>\n",
       "      <td>0.07800</td>\n",
       "      <td>23304.0</td>\n",
       "      <td>0.07800</td>\n",
       "    </tr>\n",
       "    <tr>\n",
       "      <th>2019-04-18</th>\n",
       "      <td>0.07500</td>\n",
       "      <td>0.0600</td>\n",
       "      <td>0.06500</td>\n",
       "      <td>0.06500</td>\n",
       "      <td>663948.0</td>\n",
       "      <td>0.06500</td>\n",
       "    </tr>\n",
       "    <tr>\n",
       "      <th>2019-04-22</th>\n",
       "      <td>0.07500</td>\n",
       "      <td>0.0575</td>\n",
       "      <td>0.05750</td>\n",
       "      <td>0.06500</td>\n",
       "      <td>451835.0</td>\n",
       "      <td>0.06500</td>\n",
       "    </tr>\n",
       "    <tr>\n",
       "      <th>2019-04-23</th>\n",
       "      <td>0.08995</td>\n",
       "      <td>0.0675</td>\n",
       "      <td>0.06750</td>\n",
       "      <td>0.07925</td>\n",
       "      <td>812578.0</td>\n",
       "      <td>0.07925</td>\n",
       "    </tr>\n",
       "    <tr>\n",
       "      <th>2019-04-24</th>\n",
       "      <td>0.07950</td>\n",
       "      <td>0.0610</td>\n",
       "      <td>0.07925</td>\n",
       "      <td>0.06990</td>\n",
       "      <td>779808.0</td>\n",
       "      <td>0.06990</td>\n",
       "    </tr>\n",
       "    <tr>\n",
       "      <th>2019-04-25</th>\n",
       "      <td>0.07000</td>\n",
       "      <td>0.0610</td>\n",
       "      <td>0.06100</td>\n",
       "      <td>0.06550</td>\n",
       "      <td>706219.0</td>\n",
       "      <td>0.06550</td>\n",
       "    </tr>\n",
       "  </tbody>\n",
       "</table>\n",
       "</div>"
      ],
      "text/plain": [
       "               High     Low     Open    Close    Volume  Adj Close\n",
       "Date                                                              \n",
       "2019-04-15  0.09000  0.0900  0.09000  0.09000     101.0    0.09000\n",
       "2019-04-16  0.09000  0.0840  0.08400  0.08400   13102.0    0.08400\n",
       "2019-04-17  0.09000  0.0780  0.09000  0.07800   23304.0    0.07800\n",
       "2019-04-18  0.07500  0.0600  0.06500  0.06500  663948.0    0.06500\n",
       "2019-04-22  0.07500  0.0575  0.05750  0.06500  451835.0    0.06500\n",
       "2019-04-23  0.08995  0.0675  0.06750  0.07925  812578.0    0.07925\n",
       "2019-04-24  0.07950  0.0610  0.07925  0.06990  779808.0    0.06990\n",
       "2019-04-25  0.07000  0.0610  0.06100  0.06550  706219.0    0.06550"
      ]
     },
     "execution_count": 51,
     "metadata": {},
     "output_type": "execute_result"
    }
   ],
   "source": [
    "df.loc[\"2019-04-15\":\"2019-04-25\"]"
   ]
  },
  {
   "cell_type": "code",
   "execution_count": 52,
   "metadata": {},
   "outputs": [
    {
     "data": {
      "text/plain": [
       "0   2019-04-19\n",
       "1   2019-04-20\n",
       "2   2019-04-21\n",
       "dtype: datetime64[ns]"
      ]
     },
     "execution_count": 52,
     "metadata": {},
     "output_type": "execute_result"
    }
   ],
   "source": [
    "k = pd.Series(pd.to_datetime([\"2019-04-19\",\"2019-04-20\",\"2019-04-21\"]))\n",
    "k"
   ]
  },
  {
   "cell_type": "code",
   "execution_count": 53,
   "metadata": {},
   "outputs": [
    {
     "data": {
      "text/plain": [
       "0      Friday\n",
       "1    Saturday\n",
       "2      Sunday\n",
       "dtype: object"
      ]
     },
     "execution_count": 53,
     "metadata": {},
     "output_type": "execute_result"
    }
   ],
   "source": [
    "k.dt.day_name()"
   ]
  },
  {
   "cell_type": "code",
   "execution_count": 54,
   "metadata": {},
   "outputs": [
    {
     "data": {
      "text/plain": [
       "DatetimeIndex(['1999-06-16', '2000-06-16', '2001-06-16', '2002-06-16',\n",
       "               '2003-06-16', '2004-06-16', '2005-06-16', '2006-06-16',\n",
       "               '2007-06-16', '2008-06-16', '2009-06-16', '2010-06-16',\n",
       "               '2011-06-16', '2012-06-16', '2013-06-16', '2014-06-16',\n",
       "               '2015-06-16', '2016-06-16', '2017-06-16', '2018-06-16',\n",
       "               '2019-06-16', '2020-06-16'],\n",
       "              dtype='datetime64[ns]', freq='<DateOffset: years=1>')"
      ]
     },
     "execution_count": 54,
     "metadata": {},
     "output_type": "execute_result"
    }
   ],
   "source": [
    "# Extract Microsoft share price at every birth-day of mine\n",
    "\n",
    "val = pd.date_range(start = \"1999-06-16\", end = \"2020-12-31\", freq=pd.DateOffset(years=1))\n",
    "val"
   ]
  },
  {
   "cell_type": "code",
   "execution_count": 55,
   "metadata": {},
   "outputs": [
    {
     "data": {
      "text/html": [
       "<div>\n",
       "<style scoped>\n",
       "    .dataframe tbody tr th:only-of-type {\n",
       "        vertical-align: middle;\n",
       "    }\n",
       "\n",
       "    .dataframe tbody tr th {\n",
       "        vertical-align: top;\n",
       "    }\n",
       "\n",
       "    .dataframe thead th {\n",
       "        text-align: right;\n",
       "    }\n",
       "</style>\n",
       "<table border=\"1\" class=\"dataframe\">\n",
       "  <thead>\n",
       "    <tr style=\"text-align: right;\">\n",
       "      <th></th>\n",
       "      <th>High</th>\n",
       "      <th>Low</th>\n",
       "      <th>Open</th>\n",
       "      <th>Close</th>\n",
       "      <th>Volume</th>\n",
       "      <th>Adj Close</th>\n",
       "    </tr>\n",
       "    <tr>\n",
       "      <th>Date</th>\n",
       "      <th></th>\n",
       "      <th></th>\n",
       "      <th></th>\n",
       "      <th></th>\n",
       "      <th></th>\n",
       "      <th></th>\n",
       "    </tr>\n",
       "  </thead>\n",
       "  <tbody>\n",
       "    <tr>\n",
       "      <th>2015-06-16</th>\n",
       "      <td>15.0000</td>\n",
       "      <td>15.0000</td>\n",
       "      <td>15.0000</td>\n",
       "      <td>15.00000</td>\n",
       "      <td>0.0</td>\n",
       "      <td>15.00000</td>\n",
       "    </tr>\n",
       "    <tr>\n",
       "      <th>2016-06-16</th>\n",
       "      <td>9.5000</td>\n",
       "      <td>7.2000</td>\n",
       "      <td>7.8000</td>\n",
       "      <td>7.50000</td>\n",
       "      <td>783.0</td>\n",
       "      <td>7.50000</td>\n",
       "    </tr>\n",
       "    <tr>\n",
       "      <th>2017-06-16</th>\n",
       "      <td>2.4000</td>\n",
       "      <td>2.1000</td>\n",
       "      <td>2.3000</td>\n",
       "      <td>2.40000</td>\n",
       "      <td>1074.0</td>\n",
       "      <td>2.40000</td>\n",
       "    </tr>\n",
       "    <tr>\n",
       "      <th>2020-06-16</th>\n",
       "      <td>0.0003</td>\n",
       "      <td>0.0002</td>\n",
       "      <td>0.0002</td>\n",
       "      <td>0.00021</td>\n",
       "      <td>15189759.0</td>\n",
       "      <td>0.00021</td>\n",
       "    </tr>\n",
       "  </tbody>\n",
       "</table>\n",
       "</div>"
      ],
      "text/plain": [
       "               High      Low     Open     Close      Volume  Adj Close\n",
       "Date                                                                  \n",
       "2015-06-16  15.0000  15.0000  15.0000  15.00000         0.0   15.00000\n",
       "2016-06-16   9.5000   7.2000   7.8000   7.50000       783.0    7.50000\n",
       "2017-06-16   2.4000   2.1000   2.3000   2.40000      1074.0    2.40000\n",
       "2020-06-16   0.0003   0.0002   0.0002   0.00021  15189759.0    0.00021"
      ]
     },
     "execution_count": 55,
     "metadata": {},
     "output_type": "execute_result"
    }
   ],
   "source": [
    "df[df.index.isin(val)]"
   ]
  },
  {
   "cell_type": "code",
   "execution_count": 56,
   "metadata": {},
   "outputs": [
    {
     "data": {
      "text/plain": [
       "0      Friday\n",
       "1    Saturday\n",
       "2      Sunday\n",
       "dtype: object"
      ]
     },
     "execution_count": 56,
     "metadata": {},
     "output_type": "execute_result"
    }
   ],
   "source": [
    "b = pd.Series(pd.to_datetime([\"2017-06-16\",\"2018-06-16\",\"2019-06-16\"]))\n",
    "b.dt.day_name()"
   ]
  },
  {
   "cell_type": "markdown",
   "metadata": {},
   "source": [
    "<br>\n",
    "____________________________________________________________________________________________________________________________\n",
    "\n",
    "### Timestamp Object Attribute"
   ]
  },
  {
   "cell_type": "code",
   "execution_count": 57,
   "metadata": {},
   "outputs": [
    {
     "data": {
      "text/html": [
       "<div>\n",
       "<style scoped>\n",
       "    .dataframe tbody tr th:only-of-type {\n",
       "        vertical-align: middle;\n",
       "    }\n",
       "\n",
       "    .dataframe tbody tr th {\n",
       "        vertical-align: top;\n",
       "    }\n",
       "\n",
       "    .dataframe thead th {\n",
       "        text-align: right;\n",
       "    }\n",
       "</style>\n",
       "<table border=\"1\" class=\"dataframe\">\n",
       "  <thead>\n",
       "    <tr style=\"text-align: right;\">\n",
       "      <th></th>\n",
       "      <th>High</th>\n",
       "      <th>Low</th>\n",
       "      <th>Open</th>\n",
       "      <th>Close</th>\n",
       "      <th>Volume</th>\n",
       "      <th>Adj Close</th>\n",
       "    </tr>\n",
       "    <tr>\n",
       "      <th>Date</th>\n",
       "      <th></th>\n",
       "      <th></th>\n",
       "      <th></th>\n",
       "      <th></th>\n",
       "      <th></th>\n",
       "      <th></th>\n",
       "    </tr>\n",
       "  </thead>\n",
       "  <tbody>\n",
       "    <tr>\n",
       "      <th>2014-12-31</th>\n",
       "      <td>24.000000</td>\n",
       "      <td>22.500000</td>\n",
       "      <td>24.000000</td>\n",
       "      <td>22.500000</td>\n",
       "      <td>55.0</td>\n",
       "      <td>22.500000</td>\n",
       "    </tr>\n",
       "    <tr>\n",
       "      <th>2015-01-02</th>\n",
       "      <td>28.000000</td>\n",
       "      <td>22.000000</td>\n",
       "      <td>28.000000</td>\n",
       "      <td>22.000000</td>\n",
       "      <td>105.0</td>\n",
       "      <td>22.000000</td>\n",
       "    </tr>\n",
       "    <tr>\n",
       "      <th>2015-01-05</th>\n",
       "      <td>23.700001</td>\n",
       "      <td>23.700001</td>\n",
       "      <td>23.700001</td>\n",
       "      <td>23.700001</td>\n",
       "      <td>75.0</td>\n",
       "      <td>23.700001</td>\n",
       "    </tr>\n",
       "    <tr>\n",
       "      <th>2015-01-06</th>\n",
       "      <td>23.700001</td>\n",
       "      <td>23.700001</td>\n",
       "      <td>23.700001</td>\n",
       "      <td>23.700001</td>\n",
       "      <td>0.0</td>\n",
       "      <td>23.700001</td>\n",
       "    </tr>\n",
       "    <tr>\n",
       "      <th>2015-01-07</th>\n",
       "      <td>22.100000</td>\n",
       "      <td>21.100000</td>\n",
       "      <td>22.100000</td>\n",
       "      <td>21.100000</td>\n",
       "      <td>66.0</td>\n",
       "      <td>21.100000</td>\n",
       "    </tr>\n",
       "  </tbody>\n",
       "</table>\n",
       "</div>"
      ],
      "text/plain": [
       "                 High        Low       Open      Close  Volume  Adj Close\n",
       "Date                                                                     \n",
       "2014-12-31  24.000000  22.500000  24.000000  22.500000    55.0  22.500000\n",
       "2015-01-02  28.000000  22.000000  28.000000  22.000000   105.0  22.000000\n",
       "2015-01-05  23.700001  23.700001  23.700001  23.700001    75.0  23.700001\n",
       "2015-01-06  23.700001  23.700001  23.700001  23.700001     0.0  23.700001\n",
       "2015-01-07  22.100000  21.100000  22.100000  21.100000    66.0  21.100000"
      ]
     },
     "execution_count": 57,
     "metadata": {},
     "output_type": "execute_result"
    }
   ],
   "source": [
    "df.head()"
   ]
  },
  {
   "cell_type": "code",
   "execution_count": 58,
   "metadata": {},
   "outputs": [
    {
     "data": {
      "text/plain": [
       "Timestamp('2016-12-23 00:00:00')"
      ]
     },
     "execution_count": 58,
     "metadata": {},
     "output_type": "execute_result"
    }
   ],
   "source": [
    "someday = df.index[500]\n",
    "someday"
   ]
  },
  {
   "cell_type": "code",
   "execution_count": 59,
   "metadata": {},
   "outputs": [
    {
     "name": "stdout",
     "output_type": "stream",
     "text": [
      "Someday:  2016-12-23 00:00:00\n",
      "Year:  2016\n",
      "Month:  12\n",
      "Day:  23\n"
     ]
    }
   ],
   "source": [
    "print(\"Someday: \", someday)\n",
    "\n",
    "print(\"Year: \",someday.year)\n",
    "\n",
    "print(\"Month: \",someday.month)\n",
    "\n",
    "print(\"Day: \",someday.day)"
   ]
  },
  {
   "cell_type": "code",
   "execution_count": 60,
   "metadata": {},
   "outputs": [],
   "source": [
    "# Inserting the Weekday name column\n",
    "\n",
    "df.insert(loc=0, column=\"Day_Of_Week\", value=df.index.day_name())"
   ]
  },
  {
   "cell_type": "code",
   "execution_count": 61,
   "metadata": {},
   "outputs": [
    {
     "data": {
      "text/html": [
       "<div>\n",
       "<style scoped>\n",
       "    .dataframe tbody tr th:only-of-type {\n",
       "        vertical-align: middle;\n",
       "    }\n",
       "\n",
       "    .dataframe tbody tr th {\n",
       "        vertical-align: top;\n",
       "    }\n",
       "\n",
       "    .dataframe thead th {\n",
       "        text-align: right;\n",
       "    }\n",
       "</style>\n",
       "<table border=\"1\" class=\"dataframe\">\n",
       "  <thead>\n",
       "    <tr style=\"text-align: right;\">\n",
       "      <th></th>\n",
       "      <th>Day_Of_Week</th>\n",
       "      <th>High</th>\n",
       "      <th>Low</th>\n",
       "      <th>Open</th>\n",
       "      <th>Close</th>\n",
       "      <th>Volume</th>\n",
       "      <th>Adj Close</th>\n",
       "    </tr>\n",
       "    <tr>\n",
       "      <th>Date</th>\n",
       "      <th></th>\n",
       "      <th></th>\n",
       "      <th></th>\n",
       "      <th></th>\n",
       "      <th></th>\n",
       "      <th></th>\n",
       "      <th></th>\n",
       "    </tr>\n",
       "  </thead>\n",
       "  <tbody>\n",
       "    <tr>\n",
       "      <th>2014-12-31</th>\n",
       "      <td>Wednesday</td>\n",
       "      <td>24.0</td>\n",
       "      <td>22.5</td>\n",
       "      <td>24.0</td>\n",
       "      <td>22.5</td>\n",
       "      <td>55.0</td>\n",
       "      <td>22.5</td>\n",
       "    </tr>\n",
       "    <tr>\n",
       "      <th>2015-01-02</th>\n",
       "      <td>Friday</td>\n",
       "      <td>28.0</td>\n",
       "      <td>22.0</td>\n",
       "      <td>28.0</td>\n",
       "      <td>22.0</td>\n",
       "      <td>105.0</td>\n",
       "      <td>22.0</td>\n",
       "    </tr>\n",
       "  </tbody>\n",
       "</table>\n",
       "</div>"
      ],
      "text/plain": [
       "           Day_Of_Week  High   Low  Open  Close  Volume  Adj Close\n",
       "Date                                                              \n",
       "2014-12-31   Wednesday  24.0  22.5  24.0   22.5    55.0       22.5\n",
       "2015-01-02      Friday  28.0  22.0  28.0   22.0   105.0       22.0"
      ]
     },
     "execution_count": 61,
     "metadata": {},
     "output_type": "execute_result"
    }
   ],
   "source": [
    "df.head(2)"
   ]
  },
  {
   "cell_type": "code",
   "execution_count": 62,
   "metadata": {},
   "outputs": [],
   "source": [
    "# Inserting the Is month start column\n",
    "\n",
    "df.insert(loc=1, column=\"Is_Month_Start\", value=df.index.is_month_start)"
   ]
  },
  {
   "cell_type": "code",
   "execution_count": 63,
   "metadata": {},
   "outputs": [
    {
     "data": {
      "text/html": [
       "<div>\n",
       "<style scoped>\n",
       "    .dataframe tbody tr th:only-of-type {\n",
       "        vertical-align: middle;\n",
       "    }\n",
       "\n",
       "    .dataframe tbody tr th {\n",
       "        vertical-align: top;\n",
       "    }\n",
       "\n",
       "    .dataframe thead th {\n",
       "        text-align: right;\n",
       "    }\n",
       "</style>\n",
       "<table border=\"1\" class=\"dataframe\">\n",
       "  <thead>\n",
       "    <tr style=\"text-align: right;\">\n",
       "      <th></th>\n",
       "      <th>Day_Of_Week</th>\n",
       "      <th>Is_Month_Start</th>\n",
       "      <th>High</th>\n",
       "      <th>Low</th>\n",
       "      <th>Open</th>\n",
       "      <th>Close</th>\n",
       "      <th>Volume</th>\n",
       "      <th>Adj Close</th>\n",
       "    </tr>\n",
       "    <tr>\n",
       "      <th>Date</th>\n",
       "      <th></th>\n",
       "      <th></th>\n",
       "      <th></th>\n",
       "      <th></th>\n",
       "      <th></th>\n",
       "      <th></th>\n",
       "      <th></th>\n",
       "      <th></th>\n",
       "    </tr>\n",
       "  </thead>\n",
       "  <tbody>\n",
       "    <tr>\n",
       "      <th>2014-12-31</th>\n",
       "      <td>Wednesday</td>\n",
       "      <td>False</td>\n",
       "      <td>24.0</td>\n",
       "      <td>22.5</td>\n",
       "      <td>24.0</td>\n",
       "      <td>22.5</td>\n",
       "      <td>55.0</td>\n",
       "      <td>22.5</td>\n",
       "    </tr>\n",
       "    <tr>\n",
       "      <th>2015-01-02</th>\n",
       "      <td>Friday</td>\n",
       "      <td>False</td>\n",
       "      <td>28.0</td>\n",
       "      <td>22.0</td>\n",
       "      <td>28.0</td>\n",
       "      <td>22.0</td>\n",
       "      <td>105.0</td>\n",
       "      <td>22.0</td>\n",
       "    </tr>\n",
       "  </tbody>\n",
       "</table>\n",
       "</div>"
      ],
      "text/plain": [
       "           Day_Of_Week  Is_Month_Start  High   Low  Open  Close  Volume  \\\n",
       "Date                                                                      \n",
       "2014-12-31   Wednesday           False  24.0  22.5  24.0   22.5    55.0   \n",
       "2015-01-02      Friday           False  28.0  22.0  28.0   22.0   105.0   \n",
       "\n",
       "            Adj Close  \n",
       "Date                   \n",
       "2014-12-31       22.5  \n",
       "2015-01-02       22.0  "
      ]
     },
     "execution_count": 63,
     "metadata": {},
     "output_type": "execute_result"
    }
   ],
   "source": [
    "df.head(2)"
   ]
  },
  {
   "cell_type": "code",
   "execution_count": 64,
   "metadata": {
    "scrolled": true
   },
   "outputs": [
    {
     "data": {
      "text/html": [
       "<div>\n",
       "<style scoped>\n",
       "    .dataframe tbody tr th:only-of-type {\n",
       "        vertical-align: middle;\n",
       "    }\n",
       "\n",
       "    .dataframe tbody tr th {\n",
       "        vertical-align: top;\n",
       "    }\n",
       "\n",
       "    .dataframe thead th {\n",
       "        text-align: right;\n",
       "    }\n",
       "</style>\n",
       "<table border=\"1\" class=\"dataframe\">\n",
       "  <thead>\n",
       "    <tr style=\"text-align: right;\">\n",
       "      <th></th>\n",
       "      <th>Day_Of_Week</th>\n",
       "      <th>Is_Month_Start</th>\n",
       "      <th>High</th>\n",
       "      <th>Low</th>\n",
       "      <th>Open</th>\n",
       "      <th>Close</th>\n",
       "      <th>Volume</th>\n",
       "      <th>Adj Close</th>\n",
       "    </tr>\n",
       "    <tr>\n",
       "      <th>Date</th>\n",
       "      <th></th>\n",
       "      <th></th>\n",
       "      <th></th>\n",
       "      <th></th>\n",
       "      <th></th>\n",
       "      <th></th>\n",
       "      <th></th>\n",
       "      <th></th>\n",
       "    </tr>\n",
       "  </thead>\n",
       "  <tbody>\n",
       "    <tr>\n",
       "      <th>2015-04-01</th>\n",
       "      <td>Wednesday</td>\n",
       "      <td>True</td>\n",
       "      <td>19.00000</td>\n",
       "      <td>16.10000</td>\n",
       "      <td>16.10000</td>\n",
       "      <td>19.00000</td>\n",
       "      <td>33.0</td>\n",
       "      <td>19.00000</td>\n",
       "    </tr>\n",
       "    <tr>\n",
       "      <th>2015-05-01</th>\n",
       "      <td>Friday</td>\n",
       "      <td>True</td>\n",
       "      <td>15.80000</td>\n",
       "      <td>13.00000</td>\n",
       "      <td>13.00000</td>\n",
       "      <td>15.00000</td>\n",
       "      <td>106.0</td>\n",
       "      <td>15.00000</td>\n",
       "    </tr>\n",
       "    <tr>\n",
       "      <th>2015-06-01</th>\n",
       "      <td>Monday</td>\n",
       "      <td>True</td>\n",
       "      <td>16.90000</td>\n",
       "      <td>10.10000</td>\n",
       "      <td>12.50000</td>\n",
       "      <td>12.50000</td>\n",
       "      <td>44.0</td>\n",
       "      <td>12.50000</td>\n",
       "    </tr>\n",
       "    <tr>\n",
       "      <th>2015-07-01</th>\n",
       "      <td>Wednesday</td>\n",
       "      <td>True</td>\n",
       "      <td>10.20000</td>\n",
       "      <td>10.20000</td>\n",
       "      <td>10.20000</td>\n",
       "      <td>10.20000</td>\n",
       "      <td>0.0</td>\n",
       "      <td>10.20000</td>\n",
       "    </tr>\n",
       "    <tr>\n",
       "      <th>2015-09-01</th>\n",
       "      <td>Tuesday</td>\n",
       "      <td>True</td>\n",
       "      <td>13.70000</td>\n",
       "      <td>7.60000</td>\n",
       "      <td>12.40000</td>\n",
       "      <td>8.90000</td>\n",
       "      <td>2888.0</td>\n",
       "      <td>8.90000</td>\n",
       "    </tr>\n",
       "    <tr>\n",
       "      <th>2015-10-01</th>\n",
       "      <td>Thursday</td>\n",
       "      <td>True</td>\n",
       "      <td>14.30000</td>\n",
       "      <td>12.30000</td>\n",
       "      <td>14.30000</td>\n",
       "      <td>13.40000</td>\n",
       "      <td>69.0</td>\n",
       "      <td>13.40000</td>\n",
       "    </tr>\n",
       "    <tr>\n",
       "      <th>2015-12-01</th>\n",
       "      <td>Tuesday</td>\n",
       "      <td>True</td>\n",
       "      <td>8.40000</td>\n",
       "      <td>8.40000</td>\n",
       "      <td>8.40000</td>\n",
       "      <td>8.40000</td>\n",
       "      <td>0.0</td>\n",
       "      <td>8.40000</td>\n",
       "    </tr>\n",
       "    <tr>\n",
       "      <th>2016-02-01</th>\n",
       "      <td>Monday</td>\n",
       "      <td>True</td>\n",
       "      <td>8.80000</td>\n",
       "      <td>6.50000</td>\n",
       "      <td>6.80000</td>\n",
       "      <td>8.80000</td>\n",
       "      <td>542.0</td>\n",
       "      <td>8.80000</td>\n",
       "    </tr>\n",
       "    <tr>\n",
       "      <th>2016-03-01</th>\n",
       "      <td>Tuesday</td>\n",
       "      <td>True</td>\n",
       "      <td>11.76000</td>\n",
       "      <td>10.00000</td>\n",
       "      <td>10.00000</td>\n",
       "      <td>10.50000</td>\n",
       "      <td>1587.0</td>\n",
       "      <td>10.50000</td>\n",
       "    </tr>\n",
       "    <tr>\n",
       "      <th>2016-04-01</th>\n",
       "      <td>Friday</td>\n",
       "      <td>True</td>\n",
       "      <td>9.50000</td>\n",
       "      <td>8.90000</td>\n",
       "      <td>9.50000</td>\n",
       "      <td>8.90000</td>\n",
       "      <td>95.0</td>\n",
       "      <td>8.90000</td>\n",
       "    </tr>\n",
       "    <tr>\n",
       "      <th>2016-06-01</th>\n",
       "      <td>Wednesday</td>\n",
       "      <td>True</td>\n",
       "      <td>7.00000</td>\n",
       "      <td>6.00000</td>\n",
       "      <td>7.00000</td>\n",
       "      <td>6.00000</td>\n",
       "      <td>806.0</td>\n",
       "      <td>6.00000</td>\n",
       "    </tr>\n",
       "    <tr>\n",
       "      <th>2016-07-01</th>\n",
       "      <td>Friday</td>\n",
       "      <td>True</td>\n",
       "      <td>8.00000</td>\n",
       "      <td>7.20000</td>\n",
       "      <td>7.50000</td>\n",
       "      <td>8.00000</td>\n",
       "      <td>132.0</td>\n",
       "      <td>8.00000</td>\n",
       "    </tr>\n",
       "    <tr>\n",
       "      <th>2016-08-01</th>\n",
       "      <td>Monday</td>\n",
       "      <td>True</td>\n",
       "      <td>9.80000</td>\n",
       "      <td>9.00000</td>\n",
       "      <td>9.41000</td>\n",
       "      <td>9.10000</td>\n",
       "      <td>1633.0</td>\n",
       "      <td>9.10000</td>\n",
       "    </tr>\n",
       "    <tr>\n",
       "      <th>2016-09-01</th>\n",
       "      <td>Thursday</td>\n",
       "      <td>True</td>\n",
       "      <td>7.00000</td>\n",
       "      <td>6.39000</td>\n",
       "      <td>6.60000</td>\n",
       "      <td>6.95000</td>\n",
       "      <td>803.0</td>\n",
       "      <td>6.95000</td>\n",
       "    </tr>\n",
       "    <tr>\n",
       "      <th>2016-11-01</th>\n",
       "      <td>Tuesday</td>\n",
       "      <td>True</td>\n",
       "      <td>5.10000</td>\n",
       "      <td>4.50000</td>\n",
       "      <td>5.10000</td>\n",
       "      <td>4.70000</td>\n",
       "      <td>1633.0</td>\n",
       "      <td>4.70000</td>\n",
       "    </tr>\n",
       "    <tr>\n",
       "      <th>2016-12-01</th>\n",
       "      <td>Thursday</td>\n",
       "      <td>True</td>\n",
       "      <td>4.30000</td>\n",
       "      <td>3.70000</td>\n",
       "      <td>3.98000</td>\n",
       "      <td>4.20000</td>\n",
       "      <td>1623.0</td>\n",
       "      <td>4.20000</td>\n",
       "    </tr>\n",
       "    <tr>\n",
       "      <th>2017-02-01</th>\n",
       "      <td>Wednesday</td>\n",
       "      <td>True</td>\n",
       "      <td>8.90000</td>\n",
       "      <td>7.50000</td>\n",
       "      <td>8.50000</td>\n",
       "      <td>7.50000</td>\n",
       "      <td>3028.0</td>\n",
       "      <td>7.50000</td>\n",
       "    </tr>\n",
       "    <tr>\n",
       "      <th>2017-03-01</th>\n",
       "      <td>Wednesday</td>\n",
       "      <td>True</td>\n",
       "      <td>8.90000</td>\n",
       "      <td>7.80000</td>\n",
       "      <td>8.90000</td>\n",
       "      <td>8.60000</td>\n",
       "      <td>1967.0</td>\n",
       "      <td>8.60000</td>\n",
       "    </tr>\n",
       "    <tr>\n",
       "      <th>2017-05-01</th>\n",
       "      <td>Monday</td>\n",
       "      <td>True</td>\n",
       "      <td>6.80000</td>\n",
       "      <td>5.10000</td>\n",
       "      <td>5.60000</td>\n",
       "      <td>5.50000</td>\n",
       "      <td>26339.0</td>\n",
       "      <td>5.50000</td>\n",
       "    </tr>\n",
       "    <tr>\n",
       "      <th>2017-06-01</th>\n",
       "      <td>Thursday</td>\n",
       "      <td>True</td>\n",
       "      <td>2.60000</td>\n",
       "      <td>2.10000</td>\n",
       "      <td>2.59000</td>\n",
       "      <td>2.60000</td>\n",
       "      <td>8353.0</td>\n",
       "      <td>2.60000</td>\n",
       "    </tr>\n",
       "    <tr>\n",
       "      <th>2017-08-01</th>\n",
       "      <td>Tuesday</td>\n",
       "      <td>True</td>\n",
       "      <td>2.60000</td>\n",
       "      <td>2.10000</td>\n",
       "      <td>2.30000</td>\n",
       "      <td>2.40000</td>\n",
       "      <td>5773.0</td>\n",
       "      <td>2.40000</td>\n",
       "    </tr>\n",
       "    <tr>\n",
       "      <th>2017-09-01</th>\n",
       "      <td>Friday</td>\n",
       "      <td>True</td>\n",
       "      <td>2.00000</td>\n",
       "      <td>1.80000</td>\n",
       "      <td>2.00000</td>\n",
       "      <td>1.80000</td>\n",
       "      <td>4001.0</td>\n",
       "      <td>1.80000</td>\n",
       "    </tr>\n",
       "    <tr>\n",
       "      <th>2017-11-01</th>\n",
       "      <td>Wednesday</td>\n",
       "      <td>True</td>\n",
       "      <td>1.30000</td>\n",
       "      <td>1.20000</td>\n",
       "      <td>1.30000</td>\n",
       "      <td>1.25000</td>\n",
       "      <td>1789.0</td>\n",
       "      <td>1.25000</td>\n",
       "    </tr>\n",
       "    <tr>\n",
       "      <th>2017-12-01</th>\n",
       "      <td>Friday</td>\n",
       "      <td>True</td>\n",
       "      <td>0.90000</td>\n",
       "      <td>0.80000</td>\n",
       "      <td>0.90000</td>\n",
       "      <td>0.80000</td>\n",
       "      <td>3525.0</td>\n",
       "      <td>0.80000</td>\n",
       "    </tr>\n",
       "    <tr>\n",
       "      <th>2018-02-01</th>\n",
       "      <td>Thursday</td>\n",
       "      <td>True</td>\n",
       "      <td>0.60000</td>\n",
       "      <td>0.45000</td>\n",
       "      <td>0.50000</td>\n",
       "      <td>0.50000</td>\n",
       "      <td>6272.0</td>\n",
       "      <td>0.50000</td>\n",
       "    </tr>\n",
       "    <tr>\n",
       "      <th>2018-03-01</th>\n",
       "      <td>Thursday</td>\n",
       "      <td>True</td>\n",
       "      <td>0.60000</td>\n",
       "      <td>0.40000</td>\n",
       "      <td>0.50000</td>\n",
       "      <td>0.60000</td>\n",
       "      <td>19536.0</td>\n",
       "      <td>0.60000</td>\n",
       "    </tr>\n",
       "    <tr>\n",
       "      <th>2018-05-01</th>\n",
       "      <td>Tuesday</td>\n",
       "      <td>True</td>\n",
       "      <td>0.50000</td>\n",
       "      <td>0.30000</td>\n",
       "      <td>0.50000</td>\n",
       "      <td>0.40000</td>\n",
       "      <td>5992.0</td>\n",
       "      <td>0.40000</td>\n",
       "    </tr>\n",
       "    <tr>\n",
       "      <th>2018-06-01</th>\n",
       "      <td>Friday</td>\n",
       "      <td>True</td>\n",
       "      <td>0.50000</td>\n",
       "      <td>0.30000</td>\n",
       "      <td>0.50000</td>\n",
       "      <td>0.40000</td>\n",
       "      <td>865.0</td>\n",
       "      <td>0.40000</td>\n",
       "    </tr>\n",
       "    <tr>\n",
       "      <th>2018-08-01</th>\n",
       "      <td>Wednesday</td>\n",
       "      <td>True</td>\n",
       "      <td>0.18000</td>\n",
       "      <td>0.08000</td>\n",
       "      <td>0.08000</td>\n",
       "      <td>0.18000</td>\n",
       "      <td>10922.0</td>\n",
       "      <td>0.18000</td>\n",
       "    </tr>\n",
       "    <tr>\n",
       "      <th>2018-10-01</th>\n",
       "      <td>Monday</td>\n",
       "      <td>True</td>\n",
       "      <td>0.10000</td>\n",
       "      <td>0.09250</td>\n",
       "      <td>0.10000</td>\n",
       "      <td>0.09720</td>\n",
       "      <td>8956.0</td>\n",
       "      <td>0.09720</td>\n",
       "    </tr>\n",
       "    <tr>\n",
       "      <th>2018-11-01</th>\n",
       "      <td>Thursday</td>\n",
       "      <td>True</td>\n",
       "      <td>0.04495</td>\n",
       "      <td>0.03115</td>\n",
       "      <td>0.04495</td>\n",
       "      <td>0.04350</td>\n",
       "      <td>19345.0</td>\n",
       "      <td>0.04350</td>\n",
       "    </tr>\n",
       "    <tr>\n",
       "      <th>2019-02-01</th>\n",
       "      <td>Friday</td>\n",
       "      <td>True</td>\n",
       "      <td>0.04600</td>\n",
       "      <td>0.03000</td>\n",
       "      <td>0.03500</td>\n",
       "      <td>0.04500</td>\n",
       "      <td>558199.0</td>\n",
       "      <td>0.04500</td>\n",
       "    </tr>\n",
       "    <tr>\n",
       "      <th>2019-03-01</th>\n",
       "      <td>Friday</td>\n",
       "      <td>True</td>\n",
       "      <td>0.07495</td>\n",
       "      <td>0.06000</td>\n",
       "      <td>0.07495</td>\n",
       "      <td>0.06000</td>\n",
       "      <td>112410.0</td>\n",
       "      <td>0.06000</td>\n",
       "    </tr>\n",
       "    <tr>\n",
       "      <th>2019-04-01</th>\n",
       "      <td>Monday</td>\n",
       "      <td>True</td>\n",
       "      <td>0.06220</td>\n",
       "      <td>0.05060</td>\n",
       "      <td>0.06162</td>\n",
       "      <td>0.06220</td>\n",
       "      <td>23640.0</td>\n",
       "      <td>0.06220</td>\n",
       "    </tr>\n",
       "    <tr>\n",
       "      <th>2019-05-01</th>\n",
       "      <td>Wednesday</td>\n",
       "      <td>True</td>\n",
       "      <td>0.07810</td>\n",
       "      <td>0.06256</td>\n",
       "      <td>0.06490</td>\n",
       "      <td>0.07800</td>\n",
       "      <td>138726.0</td>\n",
       "      <td>0.07800</td>\n",
       "    </tr>\n",
       "    <tr>\n",
       "      <th>2019-07-01</th>\n",
       "      <td>Monday</td>\n",
       "      <td>True</td>\n",
       "      <td>0.02300</td>\n",
       "      <td>0.02250</td>\n",
       "      <td>0.02250</td>\n",
       "      <td>0.02300</td>\n",
       "      <td>61028.0</td>\n",
       "      <td>0.02300</td>\n",
       "    </tr>\n",
       "    <tr>\n",
       "      <th>2019-08-01</th>\n",
       "      <td>Thursday</td>\n",
       "      <td>True</td>\n",
       "      <td>0.03850</td>\n",
       "      <td>0.02510</td>\n",
       "      <td>0.02510</td>\n",
       "      <td>0.03500</td>\n",
       "      <td>769537.0</td>\n",
       "      <td>0.03500</td>\n",
       "    </tr>\n",
       "    <tr>\n",
       "      <th>2019-10-01</th>\n",
       "      <td>Tuesday</td>\n",
       "      <td>True</td>\n",
       "      <td>0.00980</td>\n",
       "      <td>0.00970</td>\n",
       "      <td>0.00980</td>\n",
       "      <td>0.00970</td>\n",
       "      <td>239875.0</td>\n",
       "      <td>0.00970</td>\n",
       "    </tr>\n",
       "    <tr>\n",
       "      <th>2019-11-01</th>\n",
       "      <td>Friday</td>\n",
       "      <td>True</td>\n",
       "      <td>0.00400</td>\n",
       "      <td>0.00290</td>\n",
       "      <td>0.00400</td>\n",
       "      <td>0.00380</td>\n",
       "      <td>9178032.0</td>\n",
       "      <td>0.00380</td>\n",
       "    </tr>\n",
       "    <tr>\n",
       "      <th>2020-04-01</th>\n",
       "      <td>Wednesday</td>\n",
       "      <td>True</td>\n",
       "      <td>0.00030</td>\n",
       "      <td>0.00020</td>\n",
       "      <td>0.00030</td>\n",
       "      <td>0.00025</td>\n",
       "      <td>807098.0</td>\n",
       "      <td>0.00025</td>\n",
       "    </tr>\n",
       "    <tr>\n",
       "      <th>2020-05-01</th>\n",
       "      <td>Friday</td>\n",
       "      <td>True</td>\n",
       "      <td>0.00030</td>\n",
       "      <td>0.00020</td>\n",
       "      <td>0.00030</td>\n",
       "      <td>0.00025</td>\n",
       "      <td>49934797.0</td>\n",
       "      <td>0.00025</td>\n",
       "    </tr>\n",
       "    <tr>\n",
       "      <th>2020-06-01</th>\n",
       "      <td>Monday</td>\n",
       "      <td>True</td>\n",
       "      <td>0.00050</td>\n",
       "      <td>0.00030</td>\n",
       "      <td>0.00050</td>\n",
       "      <td>0.00040</td>\n",
       "      <td>77061187.0</td>\n",
       "      <td>0.00040</td>\n",
       "    </tr>\n",
       "    <tr>\n",
       "      <th>2020-07-01</th>\n",
       "      <td>Wednesday</td>\n",
       "      <td>True</td>\n",
       "      <td>0.00030</td>\n",
       "      <td>0.00020</td>\n",
       "      <td>0.00030</td>\n",
       "      <td>0.00020</td>\n",
       "      <td>27850530.0</td>\n",
       "      <td>0.00020</td>\n",
       "    </tr>\n",
       "    <tr>\n",
       "      <th>2020-09-01</th>\n",
       "      <td>Tuesday</td>\n",
       "      <td>True</td>\n",
       "      <td>0.00030</td>\n",
       "      <td>0.00020</td>\n",
       "      <td>0.00020</td>\n",
       "      <td>0.00030</td>\n",
       "      <td>12789849.0</td>\n",
       "      <td>0.00030</td>\n",
       "    </tr>\n",
       "    <tr>\n",
       "      <th>2020-10-01</th>\n",
       "      <td>Thursday</td>\n",
       "      <td>True</td>\n",
       "      <td>0.00020</td>\n",
       "      <td>0.00015</td>\n",
       "      <td>0.00020</td>\n",
       "      <td>0.00020</td>\n",
       "      <td>16967507.0</td>\n",
       "      <td>0.00020</td>\n",
       "    </tr>\n",
       "    <tr>\n",
       "      <th>2020-12-01</th>\n",
       "      <td>Tuesday</td>\n",
       "      <td>True</td>\n",
       "      <td>0.00025</td>\n",
       "      <td>0.00020</td>\n",
       "      <td>0.00025</td>\n",
       "      <td>0.00020</td>\n",
       "      <td>3250009.0</td>\n",
       "      <td>0.00020</td>\n",
       "    </tr>\n",
       "  </tbody>\n",
       "</table>\n",
       "</div>"
      ],
      "text/plain": [
       "           Day_Of_Week  Is_Month_Start      High       Low      Open  \\\n",
       "Date                                                                   \n",
       "2015-04-01   Wednesday            True  19.00000  16.10000  16.10000   \n",
       "2015-05-01      Friday            True  15.80000  13.00000  13.00000   \n",
       "2015-06-01      Monday            True  16.90000  10.10000  12.50000   \n",
       "2015-07-01   Wednesday            True  10.20000  10.20000  10.20000   \n",
       "2015-09-01     Tuesday            True  13.70000   7.60000  12.40000   \n",
       "2015-10-01    Thursday            True  14.30000  12.30000  14.30000   \n",
       "2015-12-01     Tuesday            True   8.40000   8.40000   8.40000   \n",
       "2016-02-01      Monday            True   8.80000   6.50000   6.80000   \n",
       "2016-03-01     Tuesday            True  11.76000  10.00000  10.00000   \n",
       "2016-04-01      Friday            True   9.50000   8.90000   9.50000   \n",
       "2016-06-01   Wednesday            True   7.00000   6.00000   7.00000   \n",
       "2016-07-01      Friday            True   8.00000   7.20000   7.50000   \n",
       "2016-08-01      Monday            True   9.80000   9.00000   9.41000   \n",
       "2016-09-01    Thursday            True   7.00000   6.39000   6.60000   \n",
       "2016-11-01     Tuesday            True   5.10000   4.50000   5.10000   \n",
       "2016-12-01    Thursday            True   4.30000   3.70000   3.98000   \n",
       "2017-02-01   Wednesday            True   8.90000   7.50000   8.50000   \n",
       "2017-03-01   Wednesday            True   8.90000   7.80000   8.90000   \n",
       "2017-05-01      Monday            True   6.80000   5.10000   5.60000   \n",
       "2017-06-01    Thursday            True   2.60000   2.10000   2.59000   \n",
       "2017-08-01     Tuesday            True   2.60000   2.10000   2.30000   \n",
       "2017-09-01      Friday            True   2.00000   1.80000   2.00000   \n",
       "2017-11-01   Wednesday            True   1.30000   1.20000   1.30000   \n",
       "2017-12-01      Friday            True   0.90000   0.80000   0.90000   \n",
       "2018-02-01    Thursday            True   0.60000   0.45000   0.50000   \n",
       "2018-03-01    Thursday            True   0.60000   0.40000   0.50000   \n",
       "2018-05-01     Tuesday            True   0.50000   0.30000   0.50000   \n",
       "2018-06-01      Friday            True   0.50000   0.30000   0.50000   \n",
       "2018-08-01   Wednesday            True   0.18000   0.08000   0.08000   \n",
       "2018-10-01      Monday            True   0.10000   0.09250   0.10000   \n",
       "2018-11-01    Thursday            True   0.04495   0.03115   0.04495   \n",
       "2019-02-01      Friday            True   0.04600   0.03000   0.03500   \n",
       "2019-03-01      Friday            True   0.07495   0.06000   0.07495   \n",
       "2019-04-01      Monday            True   0.06220   0.05060   0.06162   \n",
       "2019-05-01   Wednesday            True   0.07810   0.06256   0.06490   \n",
       "2019-07-01      Monday            True   0.02300   0.02250   0.02250   \n",
       "2019-08-01    Thursday            True   0.03850   0.02510   0.02510   \n",
       "2019-10-01     Tuesday            True   0.00980   0.00970   0.00980   \n",
       "2019-11-01      Friday            True   0.00400   0.00290   0.00400   \n",
       "2020-04-01   Wednesday            True   0.00030   0.00020   0.00030   \n",
       "2020-05-01      Friday            True   0.00030   0.00020   0.00030   \n",
       "2020-06-01      Monday            True   0.00050   0.00030   0.00050   \n",
       "2020-07-01   Wednesday            True   0.00030   0.00020   0.00030   \n",
       "2020-09-01     Tuesday            True   0.00030   0.00020   0.00020   \n",
       "2020-10-01    Thursday            True   0.00020   0.00015   0.00020   \n",
       "2020-12-01     Tuesday            True   0.00025   0.00020   0.00025   \n",
       "\n",
       "               Close      Volume  Adj Close  \n",
       "Date                                         \n",
       "2015-04-01  19.00000        33.0   19.00000  \n",
       "2015-05-01  15.00000       106.0   15.00000  \n",
       "2015-06-01  12.50000        44.0   12.50000  \n",
       "2015-07-01  10.20000         0.0   10.20000  \n",
       "2015-09-01   8.90000      2888.0    8.90000  \n",
       "2015-10-01  13.40000        69.0   13.40000  \n",
       "2015-12-01   8.40000         0.0    8.40000  \n",
       "2016-02-01   8.80000       542.0    8.80000  \n",
       "2016-03-01  10.50000      1587.0   10.50000  \n",
       "2016-04-01   8.90000        95.0    8.90000  \n",
       "2016-06-01   6.00000       806.0    6.00000  \n",
       "2016-07-01   8.00000       132.0    8.00000  \n",
       "2016-08-01   9.10000      1633.0    9.10000  \n",
       "2016-09-01   6.95000       803.0    6.95000  \n",
       "2016-11-01   4.70000      1633.0    4.70000  \n",
       "2016-12-01   4.20000      1623.0    4.20000  \n",
       "2017-02-01   7.50000      3028.0    7.50000  \n",
       "2017-03-01   8.60000      1967.0    8.60000  \n",
       "2017-05-01   5.50000     26339.0    5.50000  \n",
       "2017-06-01   2.60000      8353.0    2.60000  \n",
       "2017-08-01   2.40000      5773.0    2.40000  \n",
       "2017-09-01   1.80000      4001.0    1.80000  \n",
       "2017-11-01   1.25000      1789.0    1.25000  \n",
       "2017-12-01   0.80000      3525.0    0.80000  \n",
       "2018-02-01   0.50000      6272.0    0.50000  \n",
       "2018-03-01   0.60000     19536.0    0.60000  \n",
       "2018-05-01   0.40000      5992.0    0.40000  \n",
       "2018-06-01   0.40000       865.0    0.40000  \n",
       "2018-08-01   0.18000     10922.0    0.18000  \n",
       "2018-10-01   0.09720      8956.0    0.09720  \n",
       "2018-11-01   0.04350     19345.0    0.04350  \n",
       "2019-02-01   0.04500    558199.0    0.04500  \n",
       "2019-03-01   0.06000    112410.0    0.06000  \n",
       "2019-04-01   0.06220     23640.0    0.06220  \n",
       "2019-05-01   0.07800    138726.0    0.07800  \n",
       "2019-07-01   0.02300     61028.0    0.02300  \n",
       "2019-08-01   0.03500    769537.0    0.03500  \n",
       "2019-10-01   0.00970    239875.0    0.00970  \n",
       "2019-11-01   0.00380   9178032.0    0.00380  \n",
       "2020-04-01   0.00025    807098.0    0.00025  \n",
       "2020-05-01   0.00025  49934797.0    0.00025  \n",
       "2020-06-01   0.00040  77061187.0    0.00040  \n",
       "2020-07-01   0.00020  27850530.0    0.00020  \n",
       "2020-09-01   0.00030  12789849.0    0.00030  \n",
       "2020-10-01   0.00020  16967507.0    0.00020  \n",
       "2020-12-01   0.00020   3250009.0    0.00020  "
      ]
     },
     "execution_count": 64,
     "metadata": {},
     "output_type": "execute_result"
    }
   ],
   "source": [
    "# want to know what was the stock price was at the beginning of each month that has a valid day\n",
    "\n",
    "df[df['Is_Month_Start'] == True]"
   ]
  },
  {
   "cell_type": "markdown",
   "metadata": {},
   "source": [
    "<br>\n",
    "____________________________________________________________________________________________________________________________\n",
    "\n",
    "### Truncate"
   ]
  },
  {
   "cell_type": "code",
   "execution_count": 65,
   "metadata": {},
   "outputs": [
    {
     "data": {
      "text/html": [
       "<div>\n",
       "<style scoped>\n",
       "    .dataframe tbody tr th:only-of-type {\n",
       "        vertical-align: middle;\n",
       "    }\n",
       "\n",
       "    .dataframe tbody tr th {\n",
       "        vertical-align: top;\n",
       "    }\n",
       "\n",
       "    .dataframe thead th {\n",
       "        text-align: right;\n",
       "    }\n",
       "</style>\n",
       "<table border=\"1\" class=\"dataframe\">\n",
       "  <thead>\n",
       "    <tr style=\"text-align: right;\">\n",
       "      <th></th>\n",
       "      <th>Day_Of_Week</th>\n",
       "      <th>Is_Month_Start</th>\n",
       "      <th>High</th>\n",
       "      <th>Low</th>\n",
       "      <th>Open</th>\n",
       "      <th>Close</th>\n",
       "      <th>Volume</th>\n",
       "      <th>Adj Close</th>\n",
       "    </tr>\n",
       "    <tr>\n",
       "      <th>Date</th>\n",
       "      <th></th>\n",
       "      <th></th>\n",
       "      <th></th>\n",
       "      <th></th>\n",
       "      <th></th>\n",
       "      <th></th>\n",
       "      <th></th>\n",
       "      <th></th>\n",
       "    </tr>\n",
       "  </thead>\n",
       "  <tbody>\n",
       "    <tr>\n",
       "      <th>2014-12-31</th>\n",
       "      <td>Wednesday</td>\n",
       "      <td>False</td>\n",
       "      <td>24.0</td>\n",
       "      <td>22.5</td>\n",
       "      <td>24.0</td>\n",
       "      <td>22.5</td>\n",
       "      <td>55.0</td>\n",
       "      <td>22.5</td>\n",
       "    </tr>\n",
       "    <tr>\n",
       "      <th>2015-01-02</th>\n",
       "      <td>Friday</td>\n",
       "      <td>False</td>\n",
       "      <td>28.0</td>\n",
       "      <td>22.0</td>\n",
       "      <td>28.0</td>\n",
       "      <td>22.0</td>\n",
       "      <td>105.0</td>\n",
       "      <td>22.0</td>\n",
       "    </tr>\n",
       "  </tbody>\n",
       "</table>\n",
       "</div>"
      ],
      "text/plain": [
       "           Day_Of_Week  Is_Month_Start  High   Low  Open  Close  Volume  \\\n",
       "Date                                                                      \n",
       "2014-12-31   Wednesday           False  24.0  22.5  24.0   22.5    55.0   \n",
       "2015-01-02      Friday           False  28.0  22.0  28.0   22.0   105.0   \n",
       "\n",
       "            Adj Close  \n",
       "Date                   \n",
       "2014-12-31       22.5  \n",
       "2015-01-02       22.0  "
      ]
     },
     "execution_count": 65,
     "metadata": {},
     "output_type": "execute_result"
    }
   ],
   "source": [
    "df.head(2)"
   ]
  },
  {
   "cell_type": "code",
   "execution_count": 66,
   "metadata": {},
   "outputs": [
    {
     "data": {
      "text/html": [
       "<div>\n",
       "<style scoped>\n",
       "    .dataframe tbody tr th:only-of-type {\n",
       "        vertical-align: middle;\n",
       "    }\n",
       "\n",
       "    .dataframe tbody tr th {\n",
       "        vertical-align: top;\n",
       "    }\n",
       "\n",
       "    .dataframe thead th {\n",
       "        text-align: right;\n",
       "    }\n",
       "</style>\n",
       "<table border=\"1\" class=\"dataframe\">\n",
       "  <thead>\n",
       "    <tr style=\"text-align: right;\">\n",
       "      <th></th>\n",
       "      <th>Day_Of_Week</th>\n",
       "      <th>Is_Month_Start</th>\n",
       "      <th>High</th>\n",
       "      <th>Low</th>\n",
       "      <th>Open</th>\n",
       "      <th>Close</th>\n",
       "      <th>Volume</th>\n",
       "      <th>Adj Close</th>\n",
       "    </tr>\n",
       "    <tr>\n",
       "      <th>Date</th>\n",
       "      <th></th>\n",
       "      <th></th>\n",
       "      <th></th>\n",
       "      <th></th>\n",
       "      <th></th>\n",
       "      <th></th>\n",
       "      <th></th>\n",
       "      <th></th>\n",
       "    </tr>\n",
       "  </thead>\n",
       "  <tbody>\n",
       "    <tr>\n",
       "      <th>2015-12-07</th>\n",
       "      <td>Monday</td>\n",
       "      <td>False</td>\n",
       "      <td>9.5</td>\n",
       "      <td>9.5</td>\n",
       "      <td>9.5</td>\n",
       "      <td>9.5</td>\n",
       "      <td>12.0</td>\n",
       "      <td>9.5</td>\n",
       "    </tr>\n",
       "    <tr>\n",
       "      <th>2015-12-08</th>\n",
       "      <td>Tuesday</td>\n",
       "      <td>False</td>\n",
       "      <td>12.3</td>\n",
       "      <td>9.2</td>\n",
       "      <td>9.2</td>\n",
       "      <td>12.0</td>\n",
       "      <td>484.0</td>\n",
       "      <td>12.0</td>\n",
       "    </tr>\n",
       "    <tr>\n",
       "      <th>2015-12-09</th>\n",
       "      <td>Wednesday</td>\n",
       "      <td>False</td>\n",
       "      <td>15.0</td>\n",
       "      <td>10.0</td>\n",
       "      <td>12.0</td>\n",
       "      <td>10.0</td>\n",
       "      <td>424.0</td>\n",
       "      <td>10.0</td>\n",
       "    </tr>\n",
       "    <tr>\n",
       "      <th>2015-12-10</th>\n",
       "      <td>Thursday</td>\n",
       "      <td>False</td>\n",
       "      <td>10.0</td>\n",
       "      <td>8.5</td>\n",
       "      <td>10.0</td>\n",
       "      <td>8.5</td>\n",
       "      <td>272.0</td>\n",
       "      <td>8.5</td>\n",
       "    </tr>\n",
       "    <tr>\n",
       "      <th>2015-12-11</th>\n",
       "      <td>Friday</td>\n",
       "      <td>False</td>\n",
       "      <td>10.9</td>\n",
       "      <td>8.5</td>\n",
       "      <td>10.0</td>\n",
       "      <td>8.5</td>\n",
       "      <td>50.0</td>\n",
       "      <td>8.5</td>\n",
       "    </tr>\n",
       "    <tr>\n",
       "      <th>2015-12-14</th>\n",
       "      <td>Monday</td>\n",
       "      <td>False</td>\n",
       "      <td>8.2</td>\n",
       "      <td>7.0</td>\n",
       "      <td>8.1</td>\n",
       "      <td>7.2</td>\n",
       "      <td>332.0</td>\n",
       "      <td>7.2</td>\n",
       "    </tr>\n",
       "    <tr>\n",
       "      <th>2015-12-15</th>\n",
       "      <td>Tuesday</td>\n",
       "      <td>False</td>\n",
       "      <td>10.0</td>\n",
       "      <td>6.5</td>\n",
       "      <td>6.5</td>\n",
       "      <td>9.6</td>\n",
       "      <td>308.0</td>\n",
       "      <td>9.6</td>\n",
       "    </tr>\n",
       "    <tr>\n",
       "      <th>2015-12-16</th>\n",
       "      <td>Wednesday</td>\n",
       "      <td>False</td>\n",
       "      <td>7.9</td>\n",
       "      <td>6.0</td>\n",
       "      <td>7.1</td>\n",
       "      <td>7.9</td>\n",
       "      <td>1316.0</td>\n",
       "      <td>7.9</td>\n",
       "    </tr>\n",
       "    <tr>\n",
       "      <th>2015-12-17</th>\n",
       "      <td>Thursday</td>\n",
       "      <td>False</td>\n",
       "      <td>7.9</td>\n",
       "      <td>7.9</td>\n",
       "      <td>7.9</td>\n",
       "      <td>7.9</td>\n",
       "      <td>0.0</td>\n",
       "      <td>7.9</td>\n",
       "    </tr>\n",
       "    <tr>\n",
       "      <th>2015-12-18</th>\n",
       "      <td>Friday</td>\n",
       "      <td>False</td>\n",
       "      <td>7.7</td>\n",
       "      <td>6.5</td>\n",
       "      <td>7.7</td>\n",
       "      <td>7.6</td>\n",
       "      <td>99.0</td>\n",
       "      <td>7.6</td>\n",
       "    </tr>\n",
       "    <tr>\n",
       "      <th>2015-12-21</th>\n",
       "      <td>Monday</td>\n",
       "      <td>False</td>\n",
       "      <td>7.2</td>\n",
       "      <td>6.2</td>\n",
       "      <td>6.2</td>\n",
       "      <td>6.2</td>\n",
       "      <td>107.0</td>\n",
       "      <td>6.2</td>\n",
       "    </tr>\n",
       "    <tr>\n",
       "      <th>2015-12-22</th>\n",
       "      <td>Tuesday</td>\n",
       "      <td>False</td>\n",
       "      <td>6.2</td>\n",
       "      <td>6.2</td>\n",
       "      <td>6.2</td>\n",
       "      <td>6.2</td>\n",
       "      <td>0.0</td>\n",
       "      <td>6.2</td>\n",
       "    </tr>\n",
       "    <tr>\n",
       "      <th>2015-12-23</th>\n",
       "      <td>Wednesday</td>\n",
       "      <td>False</td>\n",
       "      <td>6.5</td>\n",
       "      <td>6.5</td>\n",
       "      <td>6.5</td>\n",
       "      <td>6.5</td>\n",
       "      <td>2.0</td>\n",
       "      <td>6.5</td>\n",
       "    </tr>\n",
       "    <tr>\n",
       "      <th>2015-12-24</th>\n",
       "      <td>Thursday</td>\n",
       "      <td>False</td>\n",
       "      <td>6.5</td>\n",
       "      <td>6.5</td>\n",
       "      <td>6.5</td>\n",
       "      <td>6.5</td>\n",
       "      <td>0.0</td>\n",
       "      <td>6.5</td>\n",
       "    </tr>\n",
       "    <tr>\n",
       "      <th>2015-12-28</th>\n",
       "      <td>Monday</td>\n",
       "      <td>False</td>\n",
       "      <td>6.5</td>\n",
       "      <td>5.0</td>\n",
       "      <td>6.2</td>\n",
       "      <td>5.0</td>\n",
       "      <td>224.0</td>\n",
       "      <td>5.0</td>\n",
       "    </tr>\n",
       "    <tr>\n",
       "      <th>2015-12-29</th>\n",
       "      <td>Tuesday</td>\n",
       "      <td>False</td>\n",
       "      <td>7.4</td>\n",
       "      <td>7.4</td>\n",
       "      <td>7.4</td>\n",
       "      <td>7.4</td>\n",
       "      <td>0.0</td>\n",
       "      <td>7.4</td>\n",
       "    </tr>\n",
       "    <tr>\n",
       "      <th>2015-12-30</th>\n",
       "      <td>Wednesday</td>\n",
       "      <td>False</td>\n",
       "      <td>7.4</td>\n",
       "      <td>7.4</td>\n",
       "      <td>7.4</td>\n",
       "      <td>7.4</td>\n",
       "      <td>0.0</td>\n",
       "      <td>7.4</td>\n",
       "    </tr>\n",
       "    <tr>\n",
       "      <th>2015-12-31</th>\n",
       "      <td>Thursday</td>\n",
       "      <td>False</td>\n",
       "      <td>7.3</td>\n",
       "      <td>5.5</td>\n",
       "      <td>5.5</td>\n",
       "      <td>7.3</td>\n",
       "      <td>10.0</td>\n",
       "      <td>7.3</td>\n",
       "    </tr>\n",
       "  </tbody>\n",
       "</table>\n",
       "</div>"
      ],
      "text/plain": [
       "           Day_Of_Week  Is_Month_Start  High   Low  Open  Close  Volume  \\\n",
       "Date                                                                      \n",
       "2015-12-07      Monday           False   9.5   9.5   9.5    9.5    12.0   \n",
       "2015-12-08     Tuesday           False  12.3   9.2   9.2   12.0   484.0   \n",
       "2015-12-09   Wednesday           False  15.0  10.0  12.0   10.0   424.0   \n",
       "2015-12-10    Thursday           False  10.0   8.5  10.0    8.5   272.0   \n",
       "2015-12-11      Friday           False  10.9   8.5  10.0    8.5    50.0   \n",
       "2015-12-14      Monday           False   8.2   7.0   8.1    7.2   332.0   \n",
       "2015-12-15     Tuesday           False  10.0   6.5   6.5    9.6   308.0   \n",
       "2015-12-16   Wednesday           False   7.9   6.0   7.1    7.9  1316.0   \n",
       "2015-12-17    Thursday           False   7.9   7.9   7.9    7.9     0.0   \n",
       "2015-12-18      Friday           False   7.7   6.5   7.7    7.6    99.0   \n",
       "2015-12-21      Monday           False   7.2   6.2   6.2    6.2   107.0   \n",
       "2015-12-22     Tuesday           False   6.2   6.2   6.2    6.2     0.0   \n",
       "2015-12-23   Wednesday           False   6.5   6.5   6.5    6.5     2.0   \n",
       "2015-12-24    Thursday           False   6.5   6.5   6.5    6.5     0.0   \n",
       "2015-12-28      Monday           False   6.5   5.0   6.2    5.0   224.0   \n",
       "2015-12-29     Tuesday           False   7.4   7.4   7.4    7.4     0.0   \n",
       "2015-12-30   Wednesday           False   7.4   7.4   7.4    7.4     0.0   \n",
       "2015-12-31    Thursday           False   7.3   5.5   5.5    7.3    10.0   \n",
       "\n",
       "            Adj Close  \n",
       "Date                   \n",
       "2015-12-07        9.5  \n",
       "2015-12-08       12.0  \n",
       "2015-12-09       10.0  \n",
       "2015-12-10        8.5  \n",
       "2015-12-11        8.5  \n",
       "2015-12-14        7.2  \n",
       "2015-12-15        9.6  \n",
       "2015-12-16        7.9  \n",
       "2015-12-17        7.9  \n",
       "2015-12-18        7.6  \n",
       "2015-12-21        6.2  \n",
       "2015-12-22        6.2  \n",
       "2015-12-23        6.5  \n",
       "2015-12-24        6.5  \n",
       "2015-12-28        5.0  \n",
       "2015-12-29        7.4  \n",
       "2015-12-30        7.4  \n",
       "2015-12-31        7.3  "
      ]
     },
     "execution_count": 66,
     "metadata": {},
     "output_type": "execute_result"
    }
   ],
   "source": [
    "df.truncate(before=\"2015-12-05\", after=\"2015-12-31\")"
   ]
  },
  {
   "cell_type": "code",
   "execution_count": 67,
   "metadata": {},
   "outputs": [
    {
     "data": {
      "text/html": [
       "<div>\n",
       "<style scoped>\n",
       "    .dataframe tbody tr th:only-of-type {\n",
       "        vertical-align: middle;\n",
       "    }\n",
       "\n",
       "    .dataframe tbody tr th {\n",
       "        vertical-align: top;\n",
       "    }\n",
       "\n",
       "    .dataframe thead th {\n",
       "        text-align: right;\n",
       "    }\n",
       "</style>\n",
       "<table border=\"1\" class=\"dataframe\">\n",
       "  <thead>\n",
       "    <tr style=\"text-align: right;\">\n",
       "      <th></th>\n",
       "      <th>Day_Of_Week</th>\n",
       "      <th>Is_Month_Start</th>\n",
       "      <th>High</th>\n",
       "      <th>Low</th>\n",
       "      <th>Open</th>\n",
       "      <th>Close</th>\n",
       "      <th>Volume</th>\n",
       "      <th>Adj Close</th>\n",
       "    </tr>\n",
       "    <tr>\n",
       "      <th>Date</th>\n",
       "      <th></th>\n",
       "      <th></th>\n",
       "      <th></th>\n",
       "      <th></th>\n",
       "      <th></th>\n",
       "      <th></th>\n",
       "      <th></th>\n",
       "      <th></th>\n",
       "    </tr>\n",
       "  </thead>\n",
       "  <tbody>\n",
       "    <tr>\n",
       "      <th>2015-12-07</th>\n",
       "      <td>Monday</td>\n",
       "      <td>False</td>\n",
       "      <td>9.5</td>\n",
       "      <td>9.5</td>\n",
       "      <td>9.5</td>\n",
       "      <td>9.5</td>\n",
       "      <td>12.0</td>\n",
       "      <td>9.5</td>\n",
       "    </tr>\n",
       "    <tr>\n",
       "      <th>2015-12-08</th>\n",
       "      <td>Tuesday</td>\n",
       "      <td>False</td>\n",
       "      <td>12.3</td>\n",
       "      <td>9.2</td>\n",
       "      <td>9.2</td>\n",
       "      <td>12.0</td>\n",
       "      <td>484.0</td>\n",
       "      <td>12.0</td>\n",
       "    </tr>\n",
       "    <tr>\n",
       "      <th>2015-12-09</th>\n",
       "      <td>Wednesday</td>\n",
       "      <td>False</td>\n",
       "      <td>15.0</td>\n",
       "      <td>10.0</td>\n",
       "      <td>12.0</td>\n",
       "      <td>10.0</td>\n",
       "      <td>424.0</td>\n",
       "      <td>10.0</td>\n",
       "    </tr>\n",
       "    <tr>\n",
       "      <th>2015-12-10</th>\n",
       "      <td>Thursday</td>\n",
       "      <td>False</td>\n",
       "      <td>10.0</td>\n",
       "      <td>8.5</td>\n",
       "      <td>10.0</td>\n",
       "      <td>8.5</td>\n",
       "      <td>272.0</td>\n",
       "      <td>8.5</td>\n",
       "    </tr>\n",
       "    <tr>\n",
       "      <th>2015-12-11</th>\n",
       "      <td>Friday</td>\n",
       "      <td>False</td>\n",
       "      <td>10.9</td>\n",
       "      <td>8.5</td>\n",
       "      <td>10.0</td>\n",
       "      <td>8.5</td>\n",
       "      <td>50.0</td>\n",
       "      <td>8.5</td>\n",
       "    </tr>\n",
       "    <tr>\n",
       "      <th>2015-12-14</th>\n",
       "      <td>Monday</td>\n",
       "      <td>False</td>\n",
       "      <td>8.2</td>\n",
       "      <td>7.0</td>\n",
       "      <td>8.1</td>\n",
       "      <td>7.2</td>\n",
       "      <td>332.0</td>\n",
       "      <td>7.2</td>\n",
       "    </tr>\n",
       "    <tr>\n",
       "      <th>2015-12-15</th>\n",
       "      <td>Tuesday</td>\n",
       "      <td>False</td>\n",
       "      <td>10.0</td>\n",
       "      <td>6.5</td>\n",
       "      <td>6.5</td>\n",
       "      <td>9.6</td>\n",
       "      <td>308.0</td>\n",
       "      <td>9.6</td>\n",
       "    </tr>\n",
       "    <tr>\n",
       "      <th>2015-12-16</th>\n",
       "      <td>Wednesday</td>\n",
       "      <td>False</td>\n",
       "      <td>7.9</td>\n",
       "      <td>6.0</td>\n",
       "      <td>7.1</td>\n",
       "      <td>7.9</td>\n",
       "      <td>1316.0</td>\n",
       "      <td>7.9</td>\n",
       "    </tr>\n",
       "    <tr>\n",
       "      <th>2015-12-17</th>\n",
       "      <td>Thursday</td>\n",
       "      <td>False</td>\n",
       "      <td>7.9</td>\n",
       "      <td>7.9</td>\n",
       "      <td>7.9</td>\n",
       "      <td>7.9</td>\n",
       "      <td>0.0</td>\n",
       "      <td>7.9</td>\n",
       "    </tr>\n",
       "    <tr>\n",
       "      <th>2015-12-18</th>\n",
       "      <td>Friday</td>\n",
       "      <td>False</td>\n",
       "      <td>7.7</td>\n",
       "      <td>6.5</td>\n",
       "      <td>7.7</td>\n",
       "      <td>7.6</td>\n",
       "      <td>99.0</td>\n",
       "      <td>7.6</td>\n",
       "    </tr>\n",
       "    <tr>\n",
       "      <th>2015-12-21</th>\n",
       "      <td>Monday</td>\n",
       "      <td>False</td>\n",
       "      <td>7.2</td>\n",
       "      <td>6.2</td>\n",
       "      <td>6.2</td>\n",
       "      <td>6.2</td>\n",
       "      <td>107.0</td>\n",
       "      <td>6.2</td>\n",
       "    </tr>\n",
       "    <tr>\n",
       "      <th>2015-12-22</th>\n",
       "      <td>Tuesday</td>\n",
       "      <td>False</td>\n",
       "      <td>6.2</td>\n",
       "      <td>6.2</td>\n",
       "      <td>6.2</td>\n",
       "      <td>6.2</td>\n",
       "      <td>0.0</td>\n",
       "      <td>6.2</td>\n",
       "    </tr>\n",
       "    <tr>\n",
       "      <th>2015-12-23</th>\n",
       "      <td>Wednesday</td>\n",
       "      <td>False</td>\n",
       "      <td>6.5</td>\n",
       "      <td>6.5</td>\n",
       "      <td>6.5</td>\n",
       "      <td>6.5</td>\n",
       "      <td>2.0</td>\n",
       "      <td>6.5</td>\n",
       "    </tr>\n",
       "    <tr>\n",
       "      <th>2015-12-24</th>\n",
       "      <td>Thursday</td>\n",
       "      <td>False</td>\n",
       "      <td>6.5</td>\n",
       "      <td>6.5</td>\n",
       "      <td>6.5</td>\n",
       "      <td>6.5</td>\n",
       "      <td>0.0</td>\n",
       "      <td>6.5</td>\n",
       "    </tr>\n",
       "    <tr>\n",
       "      <th>2015-12-28</th>\n",
       "      <td>Monday</td>\n",
       "      <td>False</td>\n",
       "      <td>6.5</td>\n",
       "      <td>5.0</td>\n",
       "      <td>6.2</td>\n",
       "      <td>5.0</td>\n",
       "      <td>224.0</td>\n",
       "      <td>5.0</td>\n",
       "    </tr>\n",
       "    <tr>\n",
       "      <th>2015-12-29</th>\n",
       "      <td>Tuesday</td>\n",
       "      <td>False</td>\n",
       "      <td>7.4</td>\n",
       "      <td>7.4</td>\n",
       "      <td>7.4</td>\n",
       "      <td>7.4</td>\n",
       "      <td>0.0</td>\n",
       "      <td>7.4</td>\n",
       "    </tr>\n",
       "    <tr>\n",
       "      <th>2015-12-30</th>\n",
       "      <td>Wednesday</td>\n",
       "      <td>False</td>\n",
       "      <td>7.4</td>\n",
       "      <td>7.4</td>\n",
       "      <td>7.4</td>\n",
       "      <td>7.4</td>\n",
       "      <td>0.0</td>\n",
       "      <td>7.4</td>\n",
       "    </tr>\n",
       "    <tr>\n",
       "      <th>2015-12-31</th>\n",
       "      <td>Thursday</td>\n",
       "      <td>False</td>\n",
       "      <td>7.3</td>\n",
       "      <td>5.5</td>\n",
       "      <td>5.5</td>\n",
       "      <td>7.3</td>\n",
       "      <td>10.0</td>\n",
       "      <td>7.3</td>\n",
       "    </tr>\n",
       "  </tbody>\n",
       "</table>\n",
       "</div>"
      ],
      "text/plain": [
       "           Day_Of_Week  Is_Month_Start  High   Low  Open  Close  Volume  \\\n",
       "Date                                                                      \n",
       "2015-12-07      Monday           False   9.5   9.5   9.5    9.5    12.0   \n",
       "2015-12-08     Tuesday           False  12.3   9.2   9.2   12.0   484.0   \n",
       "2015-12-09   Wednesday           False  15.0  10.0  12.0   10.0   424.0   \n",
       "2015-12-10    Thursday           False  10.0   8.5  10.0    8.5   272.0   \n",
       "2015-12-11      Friday           False  10.9   8.5  10.0    8.5    50.0   \n",
       "2015-12-14      Monday           False   8.2   7.0   8.1    7.2   332.0   \n",
       "2015-12-15     Tuesday           False  10.0   6.5   6.5    9.6   308.0   \n",
       "2015-12-16   Wednesday           False   7.9   6.0   7.1    7.9  1316.0   \n",
       "2015-12-17    Thursday           False   7.9   7.9   7.9    7.9     0.0   \n",
       "2015-12-18      Friday           False   7.7   6.5   7.7    7.6    99.0   \n",
       "2015-12-21      Monday           False   7.2   6.2   6.2    6.2   107.0   \n",
       "2015-12-22     Tuesday           False   6.2   6.2   6.2    6.2     0.0   \n",
       "2015-12-23   Wednesday           False   6.5   6.5   6.5    6.5     2.0   \n",
       "2015-12-24    Thursday           False   6.5   6.5   6.5    6.5     0.0   \n",
       "2015-12-28      Monday           False   6.5   5.0   6.2    5.0   224.0   \n",
       "2015-12-29     Tuesday           False   7.4   7.4   7.4    7.4     0.0   \n",
       "2015-12-30   Wednesday           False   7.4   7.4   7.4    7.4     0.0   \n",
       "2015-12-31    Thursday           False   7.3   5.5   5.5    7.3    10.0   \n",
       "\n",
       "            Adj Close  \n",
       "Date                   \n",
       "2015-12-07        9.5  \n",
       "2015-12-08       12.0  \n",
       "2015-12-09       10.0  \n",
       "2015-12-10        8.5  \n",
       "2015-12-11        8.5  \n",
       "2015-12-14        7.2  \n",
       "2015-12-15        9.6  \n",
       "2015-12-16        7.9  \n",
       "2015-12-17        7.9  \n",
       "2015-12-18        7.6  \n",
       "2015-12-21        6.2  \n",
       "2015-12-22        6.2  \n",
       "2015-12-23        6.5  \n",
       "2015-12-24        6.5  \n",
       "2015-12-28        5.0  \n",
       "2015-12-29        7.4  \n",
       "2015-12-30        7.4  \n",
       "2015-12-31        7.3  "
      ]
     },
     "execution_count": 67,
     "metadata": {},
     "output_type": "execute_result"
    }
   ],
   "source": [
    "# alternative method\n",
    "\n",
    "df.loc[\"2015-12-05\":\"2015-12-31\"]"
   ]
  },
  {
   "cell_type": "markdown",
   "metadata": {},
   "source": [
    "<br>\n",
    "____________________________________________________________________________________________________________________________\n",
    "\n",
    "### pd.DateOffset Objects"
   ]
  },
  {
   "cell_type": "code",
   "execution_count": 68,
   "metadata": {},
   "outputs": [
    {
     "data": {
      "text/html": [
       "<div>\n",
       "<style scoped>\n",
       "    .dataframe tbody tr th:only-of-type {\n",
       "        vertical-align: middle;\n",
       "    }\n",
       "\n",
       "    .dataframe tbody tr th {\n",
       "        vertical-align: top;\n",
       "    }\n",
       "\n",
       "    .dataframe thead th {\n",
       "        text-align: right;\n",
       "    }\n",
       "</style>\n",
       "<table border=\"1\" class=\"dataframe\">\n",
       "  <thead>\n",
       "    <tr style=\"text-align: right;\">\n",
       "      <th></th>\n",
       "      <th>High</th>\n",
       "      <th>Low</th>\n",
       "      <th>Open</th>\n",
       "      <th>Close</th>\n",
       "      <th>Volume</th>\n",
       "      <th>Adj Close</th>\n",
       "    </tr>\n",
       "    <tr>\n",
       "      <th>Date</th>\n",
       "      <th></th>\n",
       "      <th></th>\n",
       "      <th></th>\n",
       "      <th></th>\n",
       "      <th></th>\n",
       "      <th></th>\n",
       "    </tr>\n",
       "  </thead>\n",
       "  <tbody>\n",
       "    <tr>\n",
       "      <th>2014-12-31</th>\n",
       "      <td>531.141724</td>\n",
       "      <td>524.360352</td>\n",
       "      <td>529.795471</td>\n",
       "      <td>524.958740</td>\n",
       "      <td>1368246.0</td>\n",
       "      <td>524.958740</td>\n",
       "    </tr>\n",
       "    <tr>\n",
       "      <th>2015-01-02</th>\n",
       "      <td>529.815369</td>\n",
       "      <td>522.665039</td>\n",
       "      <td>527.561584</td>\n",
       "      <td>523.373108</td>\n",
       "      <td>1447563.0</td>\n",
       "      <td>523.373108</td>\n",
       "    </tr>\n",
       "    <tr>\n",
       "      <th>2015-01-05</th>\n",
       "      <td>522.894409</td>\n",
       "      <td>511.655243</td>\n",
       "      <td>521.827332</td>\n",
       "      <td>512.463013</td>\n",
       "      <td>2059840.0</td>\n",
       "      <td>512.463013</td>\n",
       "    </tr>\n",
       "    <tr>\n",
       "      <th>2015-01-06</th>\n",
       "      <td>514.761719</td>\n",
       "      <td>499.678131</td>\n",
       "      <td>513.589966</td>\n",
       "      <td>500.585632</td>\n",
       "      <td>2899940.0</td>\n",
       "      <td>500.585632</td>\n",
       "    </tr>\n",
       "    <tr>\n",
       "      <th>2015-01-07</th>\n",
       "      <td>505.855164</td>\n",
       "      <td>498.281952</td>\n",
       "      <td>505.611847</td>\n",
       "      <td>499.727997</td>\n",
       "      <td>2065054.0</td>\n",
       "      <td>499.727997</td>\n",
       "    </tr>\n",
       "    <tr>\n",
       "      <th>...</th>\n",
       "      <td>...</td>\n",
       "      <td>...</td>\n",
       "      <td>...</td>\n",
       "      <td>...</td>\n",
       "      <td>...</td>\n",
       "      <td>...</td>\n",
       "    </tr>\n",
       "    <tr>\n",
       "      <th>2021-04-14</th>\n",
       "      <td>2277.989990</td>\n",
       "      <td>2249.189941</td>\n",
       "      <td>2275.159912</td>\n",
       "      <td>2254.840088</td>\n",
       "      <td>1011000.0</td>\n",
       "      <td>2254.840088</td>\n",
       "    </tr>\n",
       "    <tr>\n",
       "      <th>2021-04-15</th>\n",
       "      <td>2306.596924</td>\n",
       "      <td>2266.000000</td>\n",
       "      <td>2276.979980</td>\n",
       "      <td>2296.659912</td>\n",
       "      <td>1373600.0</td>\n",
       "      <td>2296.659912</td>\n",
       "    </tr>\n",
       "    <tr>\n",
       "      <th>2021-04-16</th>\n",
       "      <td>2306.439941</td>\n",
       "      <td>2284.449951</td>\n",
       "      <td>2303.000000</td>\n",
       "      <td>2297.760010</td>\n",
       "      <td>1129800.0</td>\n",
       "      <td>2297.760010</td>\n",
       "    </tr>\n",
       "    <tr>\n",
       "      <th>2021-04-19</th>\n",
       "      <td>2318.449951</td>\n",
       "      <td>2287.844971</td>\n",
       "      <td>2291.979980</td>\n",
       "      <td>2302.399902</td>\n",
       "      <td>1233600.0</td>\n",
       "      <td>2302.399902</td>\n",
       "    </tr>\n",
       "    <tr>\n",
       "      <th>2021-04-20</th>\n",
       "      <td>2309.175049</td>\n",
       "      <td>2271.725098</td>\n",
       "      <td>2307.889893</td>\n",
       "      <td>2293.629883</td>\n",
       "      <td>1088749.0</td>\n",
       "      <td>2293.629883</td>\n",
       "    </tr>\n",
       "  </tbody>\n",
       "</table>\n",
       "<p>1586 rows × 6 columns</p>\n",
       "</div>"
      ],
      "text/plain": [
       "                   High          Low         Open        Close     Volume  \\\n",
       "Date                                                                        \n",
       "2014-12-31   531.141724   524.360352   529.795471   524.958740  1368246.0   \n",
       "2015-01-02   529.815369   522.665039   527.561584   523.373108  1447563.0   \n",
       "2015-01-05   522.894409   511.655243   521.827332   512.463013  2059840.0   \n",
       "2015-01-06   514.761719   499.678131   513.589966   500.585632  2899940.0   \n",
       "2015-01-07   505.855164   498.281952   505.611847   499.727997  2065054.0   \n",
       "...                 ...          ...          ...          ...        ...   \n",
       "2021-04-14  2277.989990  2249.189941  2275.159912  2254.840088  1011000.0   \n",
       "2021-04-15  2306.596924  2266.000000  2276.979980  2296.659912  1373600.0   \n",
       "2021-04-16  2306.439941  2284.449951  2303.000000  2297.760010  1129800.0   \n",
       "2021-04-19  2318.449951  2287.844971  2291.979980  2302.399902  1233600.0   \n",
       "2021-04-20  2309.175049  2271.725098  2307.889893  2293.629883  1088749.0   \n",
       "\n",
       "              Adj Close  \n",
       "Date                     \n",
       "2014-12-31   524.958740  \n",
       "2015-01-02   523.373108  \n",
       "2015-01-05   512.463013  \n",
       "2015-01-06   500.585632  \n",
       "2015-01-07   499.727997  \n",
       "...                 ...  \n",
       "2021-04-14  2254.840088  \n",
       "2021-04-15  2296.659912  \n",
       "2021-04-16  2297.760010  \n",
       "2021-04-19  2302.399902  \n",
       "2021-04-20  2293.629883  \n",
       "\n",
       "[1586 rows x 6 columns]"
      ]
     },
     "execution_count": 68,
     "metadata": {},
     "output_type": "execute_result"
    }
   ],
   "source": [
    "# Getting values till current date\n",
    "\n",
    "curr_val = data.DataReader(name=\"GOOG\", data_source='yahoo', start=dt.date(2015,1,1), \n",
    "                           end=dt.datetime.now())\n",
    "curr_val"
   ]
  },
  {
   "cell_type": "code",
   "execution_count": 69,
   "metadata": {},
   "outputs": [
    {
     "data": {
      "text/html": [
       "<div>\n",
       "<style scoped>\n",
       "    .dataframe tbody tr th:only-of-type {\n",
       "        vertical-align: middle;\n",
       "    }\n",
       "\n",
       "    .dataframe tbody tr th {\n",
       "        vertical-align: top;\n",
       "    }\n",
       "\n",
       "    .dataframe thead th {\n",
       "        text-align: right;\n",
       "    }\n",
       "</style>\n",
       "<table border=\"1\" class=\"dataframe\">\n",
       "  <thead>\n",
       "    <tr style=\"text-align: right;\">\n",
       "      <th></th>\n",
       "      <th>High</th>\n",
       "      <th>Low</th>\n",
       "      <th>Open</th>\n",
       "      <th>Close</th>\n",
       "      <th>Volume</th>\n",
       "      <th>Adj Close</th>\n",
       "    </tr>\n",
       "    <tr>\n",
       "      <th>Date</th>\n",
       "      <th></th>\n",
       "      <th></th>\n",
       "      <th></th>\n",
       "      <th></th>\n",
       "      <th></th>\n",
       "      <th></th>\n",
       "    </tr>\n",
       "  </thead>\n",
       "  <tbody>\n",
       "    <tr>\n",
       "      <th>2021-04-14</th>\n",
       "      <td>2277.989990</td>\n",
       "      <td>2249.189941</td>\n",
       "      <td>2275.159912</td>\n",
       "      <td>2254.840088</td>\n",
       "      <td>1011000.0</td>\n",
       "      <td>2254.840088</td>\n",
       "    </tr>\n",
       "    <tr>\n",
       "      <th>2021-04-15</th>\n",
       "      <td>2306.596924</td>\n",
       "      <td>2266.000000</td>\n",
       "      <td>2276.979980</td>\n",
       "      <td>2296.659912</td>\n",
       "      <td>1373600.0</td>\n",
       "      <td>2296.659912</td>\n",
       "    </tr>\n",
       "    <tr>\n",
       "      <th>2021-04-16</th>\n",
       "      <td>2306.439941</td>\n",
       "      <td>2284.449951</td>\n",
       "      <td>2303.000000</td>\n",
       "      <td>2297.760010</td>\n",
       "      <td>1129800.0</td>\n",
       "      <td>2297.760010</td>\n",
       "    </tr>\n",
       "    <tr>\n",
       "      <th>2021-04-19</th>\n",
       "      <td>2318.449951</td>\n",
       "      <td>2287.844971</td>\n",
       "      <td>2291.979980</td>\n",
       "      <td>2302.399902</td>\n",
       "      <td>1233600.0</td>\n",
       "      <td>2302.399902</td>\n",
       "    </tr>\n",
       "    <tr>\n",
       "      <th>2021-04-20</th>\n",
       "      <td>2309.175049</td>\n",
       "      <td>2271.725098</td>\n",
       "      <td>2307.889893</td>\n",
       "      <td>2293.629883</td>\n",
       "      <td>1088749.0</td>\n",
       "      <td>2293.629883</td>\n",
       "    </tr>\n",
       "  </tbody>\n",
       "</table>\n",
       "</div>"
      ],
      "text/plain": [
       "                   High          Low         Open        Close     Volume  \\\n",
       "Date                                                                        \n",
       "2021-04-14  2277.989990  2249.189941  2275.159912  2254.840088  1011000.0   \n",
       "2021-04-15  2306.596924  2266.000000  2276.979980  2296.659912  1373600.0   \n",
       "2021-04-16  2306.439941  2284.449951  2303.000000  2297.760010  1129800.0   \n",
       "2021-04-19  2318.449951  2287.844971  2291.979980  2302.399902  1233600.0   \n",
       "2021-04-20  2309.175049  2271.725098  2307.889893  2293.629883  1088749.0   \n",
       "\n",
       "              Adj Close  \n",
       "Date                     \n",
       "2021-04-14  2254.840088  \n",
       "2021-04-15  2296.659912  \n",
       "2021-04-16  2297.760010  \n",
       "2021-04-19  2302.399902  \n",
       "2021-04-20  2293.629883  "
      ]
     },
     "execution_count": 69,
     "metadata": {},
     "output_type": "execute_result"
    }
   ],
   "source": [
    "curr_val.tail()"
   ]
  },
  {
   "cell_type": "code",
   "execution_count": 70,
   "metadata": {},
   "outputs": [
    {
     "name": "stdout",
     "output_type": "stream",
     "text": [
      "<class 'pandas.core.frame.DataFrame'>\n",
      "DatetimeIndex: 1586 entries, 2014-12-31 to 2021-04-20\n",
      "Data columns (total 6 columns):\n",
      " #   Column     Non-Null Count  Dtype  \n",
      "---  ------     --------------  -----  \n",
      " 0   High       1586 non-null   float64\n",
      " 1   Low        1586 non-null   float64\n",
      " 2   Open       1586 non-null   float64\n",
      " 3   Close      1586 non-null   float64\n",
      " 4   Volume     1586 non-null   float64\n",
      " 5   Adj Close  1586 non-null   float64\n",
      "dtypes: float64(6)\n",
      "memory usage: 86.7 KB\n"
     ]
    }
   ],
   "source": [
    "curr_val.info()"
   ]
  },
  {
   "cell_type": "code",
   "execution_count": 71,
   "metadata": {},
   "outputs": [
    {
     "data": {
      "text/plain": [
       "DatetimeIndex(['2014-12-31', '2015-01-02', '2015-01-05', '2015-01-06',\n",
       "               '2015-01-07', '2015-01-08', '2015-01-09', '2015-01-12',\n",
       "               '2015-01-13', '2015-01-14',\n",
       "               ...\n",
       "               '2021-04-07', '2021-04-08', '2021-04-09', '2021-04-12',\n",
       "               '2021-04-13', '2021-04-14', '2021-04-15', '2021-04-16',\n",
       "               '2021-04-19', '2021-04-20'],\n",
       "              dtype='datetime64[ns]', name='Date', length=1586, freq=None)"
      ]
     },
     "execution_count": 71,
     "metadata": {},
     "output_type": "execute_result"
    }
   ],
   "source": [
    "curr_val.index"
   ]
  },
  {
   "cell_type": "code",
   "execution_count": 72,
   "metadata": {},
   "outputs": [
    {
     "data": {
      "text/plain": [
       "DatetimeIndex(['2015-01-05', '2015-01-07', '2015-01-10', '2015-01-11',\n",
       "               '2015-01-12', '2015-01-13', '2015-01-14', '2015-01-17',\n",
       "               '2015-01-18', '2015-01-19',\n",
       "               ...\n",
       "               '2021-04-12', '2021-04-13', '2021-04-14', '2021-04-17',\n",
       "               '2021-04-18', '2021-04-19', '2021-04-20', '2021-04-21',\n",
       "               '2021-04-24', '2021-04-25'],\n",
       "              dtype='datetime64[ns]', name='Date', length=1586, freq=None)"
      ]
     },
     "execution_count": 72,
     "metadata": {},
     "output_type": "execute_result"
    }
   ],
   "source": [
    "# incrementing by days\n",
    "\n",
    "curr_val.index + pd.DateOffset(days = 5)"
   ]
  },
  {
   "cell_type": "code",
   "execution_count": 73,
   "metadata": {},
   "outputs": [
    {
     "data": {
      "text/plain": [
       "DatetimeIndex(['2015-01-14', '2015-01-16', '2015-01-19', '2015-01-20',\n",
       "               '2015-01-21', '2015-01-22', '2015-01-23', '2015-01-26',\n",
       "               '2015-01-27', '2015-01-28',\n",
       "               ...\n",
       "               '2021-04-21', '2021-04-22', '2021-04-23', '2021-04-26',\n",
       "               '2021-04-27', '2021-04-28', '2021-04-29', '2021-04-30',\n",
       "               '2021-05-03', '2021-05-04'],\n",
       "              dtype='datetime64[ns]', name='Date', length=1586, freq=None)"
      ]
     },
     "execution_count": 73,
     "metadata": {},
     "output_type": "execute_result"
    }
   ],
   "source": [
    "# incrementing by weeks\n",
    "\n",
    "curr_val.index + pd.DateOffset(weeks = 2)"
   ]
  },
  {
   "cell_type": "code",
   "execution_count": 74,
   "metadata": {},
   "outputs": [
    {
     "data": {
      "text/plain": [
       "DatetimeIndex(['2014-12-26', '2014-12-28', '2014-12-31', '2015-01-01',\n",
       "               '2015-01-02', '2015-01-03', '2015-01-04', '2015-01-07',\n",
       "               '2015-01-08', '2015-01-09',\n",
       "               ...\n",
       "               '2021-04-02', '2021-04-03', '2021-04-04', '2021-04-07',\n",
       "               '2021-04-08', '2021-04-09', '2021-04-10', '2021-04-11',\n",
       "               '2021-04-14', '2021-04-15'],\n",
       "              dtype='datetime64[ns]', name='Date', length=1586, freq=None)"
      ]
     },
     "execution_count": 74,
     "metadata": {},
     "output_type": "execute_result"
    }
   ],
   "source": [
    "# decrementing by days\n",
    "\n",
    "curr_val.index - pd.DateOffset(days = 5)"
   ]
  },
  {
   "cell_type": "markdown",
   "metadata": {},
   "source": [
    "<br>\n",
    "_____________________________________________________________________________________________________________________________\n",
    "\n",
    "### More techniques to use pd.DateOffset objects"
   ]
  },
  {
   "cell_type": "code",
   "execution_count": 75,
   "metadata": {},
   "outputs": [
    {
     "data": {
      "text/html": [
       "<div>\n",
       "<style scoped>\n",
       "    .dataframe tbody tr th:only-of-type {\n",
       "        vertical-align: middle;\n",
       "    }\n",
       "\n",
       "    .dataframe tbody tr th {\n",
       "        vertical-align: top;\n",
       "    }\n",
       "\n",
       "    .dataframe thead th {\n",
       "        text-align: right;\n",
       "    }\n",
       "</style>\n",
       "<table border=\"1\" class=\"dataframe\">\n",
       "  <thead>\n",
       "    <tr style=\"text-align: right;\">\n",
       "      <th></th>\n",
       "      <th>High</th>\n",
       "      <th>Low</th>\n",
       "      <th>Open</th>\n",
       "      <th>Close</th>\n",
       "      <th>Volume</th>\n",
       "      <th>Adj Close</th>\n",
       "    </tr>\n",
       "    <tr>\n",
       "      <th>Date</th>\n",
       "      <th></th>\n",
       "      <th></th>\n",
       "      <th></th>\n",
       "      <th></th>\n",
       "      <th></th>\n",
       "      <th></th>\n",
       "    </tr>\n",
       "  </thead>\n",
       "  <tbody>\n",
       "    <tr>\n",
       "      <th>2014-12-31</th>\n",
       "      <td>531.141724</td>\n",
       "      <td>524.360352</td>\n",
       "      <td>529.795471</td>\n",
       "      <td>524.958740</td>\n",
       "      <td>1368246.0</td>\n",
       "      <td>524.958740</td>\n",
       "    </tr>\n",
       "    <tr>\n",
       "      <th>2015-01-02</th>\n",
       "      <td>529.815369</td>\n",
       "      <td>522.665039</td>\n",
       "      <td>527.561584</td>\n",
       "      <td>523.373108</td>\n",
       "      <td>1447563.0</td>\n",
       "      <td>523.373108</td>\n",
       "    </tr>\n",
       "    <tr>\n",
       "      <th>2015-01-05</th>\n",
       "      <td>522.894409</td>\n",
       "      <td>511.655243</td>\n",
       "      <td>521.827332</td>\n",
       "      <td>512.463013</td>\n",
       "      <td>2059840.0</td>\n",
       "      <td>512.463013</td>\n",
       "    </tr>\n",
       "    <tr>\n",
       "      <th>2015-01-06</th>\n",
       "      <td>514.761719</td>\n",
       "      <td>499.678131</td>\n",
       "      <td>513.589966</td>\n",
       "      <td>500.585632</td>\n",
       "      <td>2899940.0</td>\n",
       "      <td>500.585632</td>\n",
       "    </tr>\n",
       "    <tr>\n",
       "      <th>2015-01-07</th>\n",
       "      <td>505.855164</td>\n",
       "      <td>498.281952</td>\n",
       "      <td>505.611847</td>\n",
       "      <td>499.727997</td>\n",
       "      <td>2065054.0</td>\n",
       "      <td>499.727997</td>\n",
       "    </tr>\n",
       "    <tr>\n",
       "      <th>...</th>\n",
       "      <td>...</td>\n",
       "      <td>...</td>\n",
       "      <td>...</td>\n",
       "      <td>...</td>\n",
       "      <td>...</td>\n",
       "      <td>...</td>\n",
       "    </tr>\n",
       "    <tr>\n",
       "      <th>2021-04-14</th>\n",
       "      <td>2277.989990</td>\n",
       "      <td>2249.189941</td>\n",
       "      <td>2275.159912</td>\n",
       "      <td>2254.840088</td>\n",
       "      <td>1011000.0</td>\n",
       "      <td>2254.840088</td>\n",
       "    </tr>\n",
       "    <tr>\n",
       "      <th>2021-04-15</th>\n",
       "      <td>2306.596924</td>\n",
       "      <td>2266.000000</td>\n",
       "      <td>2276.979980</td>\n",
       "      <td>2296.659912</td>\n",
       "      <td>1373600.0</td>\n",
       "      <td>2296.659912</td>\n",
       "    </tr>\n",
       "    <tr>\n",
       "      <th>2021-04-16</th>\n",
       "      <td>2306.439941</td>\n",
       "      <td>2284.449951</td>\n",
       "      <td>2303.000000</td>\n",
       "      <td>2297.760010</td>\n",
       "      <td>1129800.0</td>\n",
       "      <td>2297.760010</td>\n",
       "    </tr>\n",
       "    <tr>\n",
       "      <th>2021-04-19</th>\n",
       "      <td>2318.449951</td>\n",
       "      <td>2287.844971</td>\n",
       "      <td>2291.979980</td>\n",
       "      <td>2302.399902</td>\n",
       "      <td>1233600.0</td>\n",
       "      <td>2302.399902</td>\n",
       "    </tr>\n",
       "    <tr>\n",
       "      <th>2021-04-20</th>\n",
       "      <td>2309.175049</td>\n",
       "      <td>2271.725098</td>\n",
       "      <td>2307.889893</td>\n",
       "      <td>2293.629883</td>\n",
       "      <td>1088749.0</td>\n",
       "      <td>2293.629883</td>\n",
       "    </tr>\n",
       "  </tbody>\n",
       "</table>\n",
       "<p>1586 rows × 6 columns</p>\n",
       "</div>"
      ],
      "text/plain": [
       "                   High          Low         Open        Close     Volume  \\\n",
       "Date                                                                        \n",
       "2014-12-31   531.141724   524.360352   529.795471   524.958740  1368246.0   \n",
       "2015-01-02   529.815369   522.665039   527.561584   523.373108  1447563.0   \n",
       "2015-01-05   522.894409   511.655243   521.827332   512.463013  2059840.0   \n",
       "2015-01-06   514.761719   499.678131   513.589966   500.585632  2899940.0   \n",
       "2015-01-07   505.855164   498.281952   505.611847   499.727997  2065054.0   \n",
       "...                 ...          ...          ...          ...        ...   \n",
       "2021-04-14  2277.989990  2249.189941  2275.159912  2254.840088  1011000.0   \n",
       "2021-04-15  2306.596924  2266.000000  2276.979980  2296.659912  1373600.0   \n",
       "2021-04-16  2306.439941  2284.449951  2303.000000  2297.760010  1129800.0   \n",
       "2021-04-19  2318.449951  2287.844971  2291.979980  2302.399902  1233600.0   \n",
       "2021-04-20  2309.175049  2271.725098  2307.889893  2293.629883  1088749.0   \n",
       "\n",
       "              Adj Close  \n",
       "Date                     \n",
       "2014-12-31   524.958740  \n",
       "2015-01-02   523.373108  \n",
       "2015-01-05   512.463013  \n",
       "2015-01-06   500.585632  \n",
       "2015-01-07   499.727997  \n",
       "...                 ...  \n",
       "2021-04-14  2254.840088  \n",
       "2021-04-15  2296.659912  \n",
       "2021-04-16  2297.760010  \n",
       "2021-04-19  2302.399902  \n",
       "2021-04-20  2293.629883  \n",
       "\n",
       "[1586 rows x 6 columns]"
      ]
     },
     "execution_count": 75,
     "metadata": {},
     "output_type": "execute_result"
    }
   ],
   "source": [
    "stocks = data.DataReader(name=\"GOOG\", data_source='yahoo', start=dt.date(2015,1,1), \n",
    "                         end=dt.datetime.now())\n",
    "stocks"
   ]
  },
  {
   "cell_type": "code",
   "execution_count": 76,
   "metadata": {},
   "outputs": [
    {
     "data": {
      "text/plain": [
       "DatetimeIndex(['2015-01-31', '2015-01-31', '2015-01-31', '2015-01-31',\n",
       "               '2015-01-31', '2015-01-31', '2015-01-31', '2015-01-31',\n",
       "               '2015-01-31', '2015-01-31',\n",
       "               ...\n",
       "               '2021-04-30', '2021-04-30', '2021-04-30', '2021-04-30',\n",
       "               '2021-04-30', '2021-04-30', '2021-04-30', '2021-04-30',\n",
       "               '2021-04-30', '2021-04-30'],\n",
       "              dtype='datetime64[ns]', name='Date', length=1586, freq=None)"
      ]
     },
     "execution_count": 76,
     "metadata": {},
     "output_type": "execute_result"
    }
   ],
   "source": [
    "# this will look at the date and find the next month end\n",
    "\n",
    "stocks.index + pd.tseries.offsets.MonthEnd()"
   ]
  },
  {
   "cell_type": "markdown",
   "metadata": {},
   "source": [
    "# OR"
   ]
  },
  {
   "cell_type": "code",
   "execution_count": 77,
   "metadata": {},
   "outputs": [
    {
     "data": {
      "text/plain": [
       "DatetimeIndex(['2014-11-28', '2014-12-31', '2014-12-31', '2014-12-31',\n",
       "               '2014-12-31', '2014-12-31', '2014-12-31', '2014-12-31',\n",
       "               '2014-12-31', '2014-12-31',\n",
       "               ...\n",
       "               '2021-03-31', '2021-03-31', '2021-03-31', '2021-03-31',\n",
       "               '2021-03-31', '2021-03-31', '2021-03-31', '2021-03-31',\n",
       "               '2021-03-31', '2021-03-31'],\n",
       "              dtype='datetime64[ns]', name='Date', length=1586, freq=None)"
      ]
     },
     "execution_count": 77,
     "metadata": {},
     "output_type": "execute_result"
    }
   ],
   "source": [
    "# Import all the libraries from pandas.tseries.offsets\n",
    "\n",
    "from pandas.tseries.offsets import *\n",
    "\n",
    "stocks.index - MonthEnd()\n",
    "\n",
    "stocks.index + BMonthEnd()  # Business month\n",
    "\n",
    "stocks.index - BMonthEnd()  # Last availabel business month "
   ]
  },
  {
   "cell_type": "code",
   "execution_count": 78,
   "metadata": {},
   "outputs": [
    {
     "data": {
      "text/plain": [
       "DatetimeIndex(['2014-12-31', '2015-01-02', '2015-01-05', '2015-01-06',\n",
       "               '2015-01-07', '2015-01-08', '2015-01-09', '2015-01-12',\n",
       "               '2015-01-13', '2015-01-14',\n",
       "               ...\n",
       "               '2021-04-07', '2021-04-08', '2021-04-09', '2021-04-12',\n",
       "               '2021-04-13', '2021-04-14', '2021-04-15', '2021-04-16',\n",
       "               '2021-04-19', '2021-04-20'],\n",
       "              dtype='datetime64[ns]', name='Date', length=1586, freq=None)"
      ]
     },
     "execution_count": 78,
     "metadata": {},
     "output_type": "execute_result"
    }
   ],
   "source": [
    "stocks.index"
   ]
  },
  {
   "cell_type": "code",
   "execution_count": 79,
   "metadata": {},
   "outputs": [
    {
     "data": {
      "text/plain": [
       "DatetimeIndex(['2015-03-31', '2015-03-31', '2015-03-31', '2015-03-31',\n",
       "               '2015-03-31', '2015-03-31', '2015-03-31', '2015-03-31',\n",
       "               '2015-03-31', '2015-03-31',\n",
       "               ...\n",
       "               '2021-06-30', '2021-06-30', '2021-06-30', '2021-06-30',\n",
       "               '2021-06-30', '2021-06-30', '2021-06-30', '2021-06-30',\n",
       "               '2021-06-30', '2021-06-30'],\n",
       "              dtype='datetime64[ns]', name='Date', length=1586, freq=None)"
      ]
     },
     "execution_count": 79,
     "metadata": {},
     "output_type": "execute_result"
    }
   ],
   "source": [
    "# Look end of the quarter \n",
    "\n",
    "stocks.index + QuarterEnd()"
   ]
  },
  {
   "cell_type": "code",
   "execution_count": 80,
   "metadata": {},
   "outputs": [
    {
     "data": {
      "text/plain": [
       "DatetimeIndex(['2014-09-30', '2014-12-31', '2014-12-31', '2014-12-31',\n",
       "               '2014-12-31', '2014-12-31', '2014-12-31', '2014-12-31',\n",
       "               '2014-12-31', '2014-12-31',\n",
       "               ...\n",
       "               '2021-03-31', '2021-03-31', '2021-03-31', '2021-03-31',\n",
       "               '2021-03-31', '2021-03-31', '2021-03-31', '2021-03-31',\n",
       "               '2021-03-31', '2021-03-31'],\n",
       "              dtype='datetime64[ns]', name='Date', length=1586, freq=None)"
      ]
     },
     "execution_count": 80,
     "metadata": {},
     "output_type": "execute_result"
    }
   ],
   "source": [
    "# Look beginning of the quarter\n",
    "\n",
    "stocks.index - QuarterEnd()"
   ]
  },
  {
   "cell_type": "code",
   "execution_count": 81,
   "metadata": {},
   "outputs": [
    {
     "data": {
      "text/plain": [
       "DatetimeIndex(['2013-12-31', '2014-12-31', '2014-12-31', '2014-12-31',\n",
       "               '2014-12-31', '2014-12-31', '2014-12-31', '2014-12-31',\n",
       "               '2014-12-31', '2014-12-31',\n",
       "               ...\n",
       "               '2020-12-31', '2020-12-31', '2020-12-31', '2020-12-31',\n",
       "               '2020-12-31', '2020-12-31', '2020-12-31', '2020-12-31',\n",
       "               '2020-12-31', '2020-12-31'],\n",
       "              dtype='datetime64[ns]', name='Date', length=1586, freq=None)"
      ]
     },
     "execution_count": 81,
     "metadata": {},
     "output_type": "execute_result"
    }
   ],
   "source": [
    "# Look at end of the Year End\n",
    "\n",
    "stocks.index - YearEnd()"
   ]
  },
  {
   "cell_type": "code",
   "execution_count": 82,
   "metadata": {},
   "outputs": [
    {
     "data": {
      "text/plain": [
       "DatetimeIndex(['2015-12-31', '2015-12-31', '2015-12-31', '2015-12-31',\n",
       "               '2015-12-31', '2015-12-31', '2015-12-31', '2015-12-31',\n",
       "               '2015-12-31', '2015-12-31',\n",
       "               ...\n",
       "               '2021-12-31', '2021-12-31', '2021-12-31', '2021-12-31',\n",
       "               '2021-12-31', '2021-12-31', '2021-12-31', '2021-12-31',\n",
       "               '2021-12-31', '2021-12-31'],\n",
       "              dtype='datetime64[ns]', name='Date', length=1586, freq=None)"
      ]
     },
     "execution_count": 82,
     "metadata": {},
     "output_type": "execute_result"
    }
   ],
   "source": [
    "# Look at beginning of the Year End\n",
    "\n",
    "stocks.index + YearEnd()"
   ]
  },
  {
   "cell_type": "markdown",
   "metadata": {},
   "source": [
    "<br>\n",
    "_____________________________________________________________________________________________________________________________\n",
    "\n",
    "### Timedelta object\n",
    "\n",
    "- Not a specific date but a duration or laps in time."
   ]
  },
  {
   "cell_type": "code",
   "execution_count": 85,
   "metadata": {},
   "outputs": [],
   "source": [
    "TimeA = pd.Timestamp(\"2016-05-25\")\n",
    "\n",
    "TimeB = pd.Timestamp(\"2016-05-15\")"
   ]
  },
  {
   "cell_type": "code",
   "execution_count": 86,
   "metadata": {},
   "outputs": [
    {
     "data": {
      "text/plain": [
       "Timedelta('10 days 00:00:00')"
      ]
     },
     "execution_count": 86,
     "metadata": {},
     "output_type": "execute_result"
    }
   ],
   "source": [
    "TimeA - TimeB"
   ]
  },
  {
   "cell_type": "markdown",
   "metadata": {},
   "source": [
    "This is what we call as Timedelta object.\n",
    "\n",
    "Example: My exam is getting over after 2 days"
   ]
  },
  {
   "cell_type": "code",
   "execution_count": 87,
   "metadata": {},
   "outputs": [],
   "source": [
    "TimeC = pd.Timestamp(\"2016-05-25 06:30:00 PM\")\n",
    "\n",
    "TimeD = pd.Timestamp(\"2016-05-15 06:30:55 AM\")"
   ]
  },
  {
   "cell_type": "code",
   "execution_count": 88,
   "metadata": {},
   "outputs": [
    {
     "data": {
      "text/plain": [
       "Timedelta('10 days 11:59:05')"
      ]
     },
     "execution_count": 88,
     "metadata": {},
     "output_type": "execute_result"
    }
   ],
   "source": [
    "TimeC - TimeD"
   ]
  },
  {
   "cell_type": "code",
   "execution_count": 90,
   "metadata": {},
   "outputs": [
    {
     "data": {
      "text/plain": [
       "Timedelta('3 days 11:45:12')"
      ]
     },
     "execution_count": 90,
     "metadata": {},
     "output_type": "execute_result"
    }
   ],
   "source": [
    "pd.Timedelta(days=3, minutes=45, hours=11, seconds=12)"
   ]
  },
  {
   "cell_type": "code",
   "execution_count": 91,
   "metadata": {},
   "outputs": [
    {
     "data": {
      "text/plain": [
       "Timedelta('66 days 11:45:12')"
      ]
     },
     "execution_count": 91,
     "metadata": {},
     "output_type": "execute_result"
    }
   ],
   "source": [
    "pd.Timedelta(days=3, minutes=45, hours=11, seconds=12, weeks=9)"
   ]
  },
  {
   "cell_type": "code",
   "execution_count": 93,
   "metadata": {},
   "outputs": [
    {
     "data": {
      "text/plain": [
       "Timedelta('0 days 12:05:28')"
      ]
     },
     "execution_count": 93,
     "metadata": {},
     "output_type": "execute_result"
    }
   ],
   "source": [
    "pd.Timedelta(\"12 hours 5 minutes 28 seconds\")"
   ]
  },
  {
   "cell_type": "code",
   "execution_count": 96,
   "metadata": {},
   "outputs": [
    {
     "data": {
      "text/plain": [
       "Timedelta('3 days 12:05:28')"
      ]
     },
     "execution_count": 96,
     "metadata": {},
     "output_type": "execute_result"
    }
   ],
   "source": [
    "pd.Timedelta(\"3 days 12 hours 5 minutes 28 seconds\")"
   ]
  },
  {
   "cell_type": "markdown",
   "metadata": {},
   "source": [
    "### Timedelta in real life"
   ]
  },
  {
   "cell_type": "code",
   "execution_count": 104,
   "metadata": {},
   "outputs": [
    {
     "data": {
      "text/html": [
       "<div>\n",
       "<style scoped>\n",
       "    .dataframe tbody tr th:only-of-type {\n",
       "        vertical-align: middle;\n",
       "    }\n",
       "\n",
       "    .dataframe tbody tr th {\n",
       "        vertical-align: top;\n",
       "    }\n",
       "\n",
       "    .dataframe thead th {\n",
       "        text-align: right;\n",
       "    }\n",
       "</style>\n",
       "<table border=\"1\" class=\"dataframe\">\n",
       "  <thead>\n",
       "    <tr style=\"text-align: right;\">\n",
       "      <th></th>\n",
       "      <th>order_date</th>\n",
       "      <th>delivery_date</th>\n",
       "    </tr>\n",
       "    <tr>\n",
       "      <th>ID</th>\n",
       "      <th></th>\n",
       "      <th></th>\n",
       "    </tr>\n",
       "  </thead>\n",
       "  <tbody>\n",
       "    <tr>\n",
       "      <th>1</th>\n",
       "      <td>1998-05-24</td>\n",
       "      <td>1999-02-05</td>\n",
       "    </tr>\n",
       "    <tr>\n",
       "      <th>2</th>\n",
       "      <td>1992-04-22</td>\n",
       "      <td>1998-03-06</td>\n",
       "    </tr>\n",
       "    <tr>\n",
       "      <th>4</th>\n",
       "      <td>1991-02-10</td>\n",
       "      <td>1992-08-26</td>\n",
       "    </tr>\n",
       "    <tr>\n",
       "      <th>5</th>\n",
       "      <td>1992-07-21</td>\n",
       "      <td>1997-11-20</td>\n",
       "    </tr>\n",
       "    <tr>\n",
       "      <th>7</th>\n",
       "      <td>1993-09-02</td>\n",
       "      <td>1998-06-10</td>\n",
       "    </tr>\n",
       "  </tbody>\n",
       "</table>\n",
       "</div>"
      ],
      "text/plain": [
       "   order_date delivery_date\n",
       "ID                         \n",
       "1  1998-05-24    1999-02-05\n",
       "2  1992-04-22    1998-03-06\n",
       "4  1991-02-10    1992-08-26\n",
       "5  1992-07-21    1997-11-20\n",
       "7  1993-09-02    1998-06-10"
      ]
     },
     "execution_count": 104,
     "metadata": {},
     "output_type": "execute_result"
    }
   ],
   "source": [
    "df = pd.read_csv(r\"D:\\courses\\Udemy - Data Analysis with Pandas and Python data\\ecommerce.csv\", index_col='ID',\n",
    "                 parse_dates=['order_date', 'delivery_date'])\n",
    "df.head()"
   ]
  },
  {
   "cell_type": "code",
   "execution_count": 105,
   "metadata": {},
   "outputs": [
    {
     "name": "stdout",
     "output_type": "stream",
     "text": [
      "<class 'pandas.core.frame.DataFrame'>\n",
      "Int64Index: 501 entries, 1 to 997\n",
      "Data columns (total 2 columns):\n",
      " #   Column         Non-Null Count  Dtype         \n",
      "---  ------         --------------  -----         \n",
      " 0   order_date     501 non-null    datetime64[ns]\n",
      " 1   delivery_date  501 non-null    datetime64[ns]\n",
      "dtypes: datetime64[ns](2)\n",
      "memory usage: 11.7 KB\n"
     ]
    }
   ],
   "source": [
    "df.info()"
   ]
  },
  {
   "cell_type": "code",
   "execution_count": 107,
   "metadata": {},
   "outputs": [
    {
     "data": {
      "text/plain": [
       "ID\n",
       "1      257 days\n",
       "2     2144 days\n",
       "4      563 days\n",
       "5     1948 days\n",
       "7     1742 days\n",
       "         ...   \n",
       "990   1684 days\n",
       "991   2394 days\n",
       "993   2719 days\n",
       "994     10 days\n",
       "997    637 days\n",
       "Length: 501, dtype: timedelta64[ns]"
      ]
     },
     "execution_count": 107,
     "metadata": {},
     "output_type": "execute_result"
    }
   ],
   "source": [
    "delay = df['delivery_date'] - df['order_date']\n",
    "delay"
   ]
  },
  {
   "cell_type": "code",
   "execution_count": 108,
   "metadata": {},
   "outputs": [
    {
     "data": {
      "text/plain": [
       "Timedelta('3583 days 00:00:00')"
      ]
     },
     "execution_count": 108,
     "metadata": {},
     "output_type": "execute_result"
    }
   ],
   "source": [
    "delay.max()"
   ]
  },
  {
   "cell_type": "code",
   "execution_count": 109,
   "metadata": {},
   "outputs": [
    {
     "data": {
      "text/plain": [
       "Timedelta('8 days 00:00:00')"
      ]
     },
     "execution_count": 109,
     "metadata": {},
     "output_type": "execute_result"
    }
   ],
   "source": [
    "delay.min()"
   ]
  },
  {
   "cell_type": "code",
   "execution_count": 110,
   "metadata": {},
   "outputs": [],
   "source": [
    "df['Order_delay'] = delay"
   ]
  },
  {
   "cell_type": "code",
   "execution_count": 111,
   "metadata": {},
   "outputs": [
    {
     "data": {
      "text/html": [
       "<div>\n",
       "<style scoped>\n",
       "    .dataframe tbody tr th:only-of-type {\n",
       "        vertical-align: middle;\n",
       "    }\n",
       "\n",
       "    .dataframe tbody tr th {\n",
       "        vertical-align: top;\n",
       "    }\n",
       "\n",
       "    .dataframe thead th {\n",
       "        text-align: right;\n",
       "    }\n",
       "</style>\n",
       "<table border=\"1\" class=\"dataframe\">\n",
       "  <thead>\n",
       "    <tr style=\"text-align: right;\">\n",
       "      <th></th>\n",
       "      <th>order_date</th>\n",
       "      <th>delivery_date</th>\n",
       "      <th>Order_delay</th>\n",
       "    </tr>\n",
       "    <tr>\n",
       "      <th>ID</th>\n",
       "      <th></th>\n",
       "      <th></th>\n",
       "      <th></th>\n",
       "    </tr>\n",
       "  </thead>\n",
       "  <tbody>\n",
       "    <tr>\n",
       "      <th>1</th>\n",
       "      <td>1998-05-24</td>\n",
       "      <td>1999-02-05</td>\n",
       "      <td>257 days</td>\n",
       "    </tr>\n",
       "    <tr>\n",
       "      <th>2</th>\n",
       "      <td>1992-04-22</td>\n",
       "      <td>1998-03-06</td>\n",
       "      <td>2144 days</td>\n",
       "    </tr>\n",
       "    <tr>\n",
       "      <th>4</th>\n",
       "      <td>1991-02-10</td>\n",
       "      <td>1992-08-26</td>\n",
       "      <td>563 days</td>\n",
       "    </tr>\n",
       "    <tr>\n",
       "      <th>5</th>\n",
       "      <td>1992-07-21</td>\n",
       "      <td>1997-11-20</td>\n",
       "      <td>1948 days</td>\n",
       "    </tr>\n",
       "    <tr>\n",
       "      <th>7</th>\n",
       "      <td>1993-09-02</td>\n",
       "      <td>1998-06-10</td>\n",
       "      <td>1742 days</td>\n",
       "    </tr>\n",
       "  </tbody>\n",
       "</table>\n",
       "</div>"
      ],
      "text/plain": [
       "   order_date delivery_date Order_delay\n",
       "ID                                     \n",
       "1  1998-05-24    1999-02-05    257 days\n",
       "2  1992-04-22    1998-03-06   2144 days\n",
       "4  1991-02-10    1992-08-26    563 days\n",
       "5  1992-07-21    1997-11-20   1948 days\n",
       "7  1993-09-02    1998-06-10   1742 days"
      ]
     },
     "execution_count": 111,
     "metadata": {},
     "output_type": "execute_result"
    }
   ],
   "source": [
    "df.head()"
   ]
  },
  {
   "cell_type": "code",
   "execution_count": 112,
   "metadata": {},
   "outputs": [
    {
     "data": {
      "text/plain": [
       "ID\n",
       "1     1999-10-20\n",
       "2     2004-01-18\n",
       "4     1994-03-12\n",
       "5     2003-03-22\n",
       "7     2003-03-18\n",
       "         ...    \n",
       "990   2000-09-12\n",
       "991   2004-10-18\n",
       "993   2005-10-06\n",
       "994   1993-06-23\n",
       "997   1993-07-01\n",
       "Length: 501, dtype: datetime64[ns]"
      ]
     },
     "execution_count": 112,
     "metadata": {},
     "output_type": "execute_result"
    }
   ],
   "source": [
    "df['delivery_date'] + df['Order_delay']"
   ]
  },
  {
   "cell_type": "code",
   "execution_count": 113,
   "metadata": {},
   "outputs": [
    {
     "data": {
      "text/plain": [
       "ID\n",
       "1     1998-05-24\n",
       "2     1992-04-22\n",
       "4     1991-02-10\n",
       "5     1992-07-21\n",
       "7     1993-09-02\n",
       "         ...    \n",
       "990   1991-06-24\n",
       "991   1991-09-09\n",
       "993   1990-11-16\n",
       "994   1993-06-03\n",
       "997   1990-01-04\n",
       "Length: 501, dtype: datetime64[ns]"
      ]
     },
     "execution_count": 113,
     "metadata": {},
     "output_type": "execute_result"
    }
   ],
   "source": [
    "df['delivery_date'] - df['Order_delay']"
   ]
  },
  {
   "cell_type": "code",
   "execution_count": 114,
   "metadata": {},
   "outputs": [
    {
     "data": {
      "text/plain": [
       "ID\n",
       "1      False\n",
       "2       True\n",
       "4       True\n",
       "5       True\n",
       "7       True\n",
       "       ...  \n",
       "990     True\n",
       "991     True\n",
       "993     True\n",
       "994    False\n",
       "997     True\n",
       "Name: Order_delay, Length: 501, dtype: bool"
      ]
     },
     "execution_count": 114,
     "metadata": {},
     "output_type": "execute_result"
    }
   ],
   "source": [
    "df['Order_delay'] > \"365 days\""
   ]
  },
  {
   "cell_type": "code",
   "execution_count": 115,
   "metadata": {},
   "outputs": [
    {
     "data": {
      "text/html": [
       "<div>\n",
       "<style scoped>\n",
       "    .dataframe tbody tr th:only-of-type {\n",
       "        vertical-align: middle;\n",
       "    }\n",
       "\n",
       "    .dataframe tbody tr th {\n",
       "        vertical-align: top;\n",
       "    }\n",
       "\n",
       "    .dataframe thead th {\n",
       "        text-align: right;\n",
       "    }\n",
       "</style>\n",
       "<table border=\"1\" class=\"dataframe\">\n",
       "  <thead>\n",
       "    <tr style=\"text-align: right;\">\n",
       "      <th></th>\n",
       "      <th>order_date</th>\n",
       "      <th>delivery_date</th>\n",
       "      <th>Order_delay</th>\n",
       "    </tr>\n",
       "    <tr>\n",
       "      <th>ID</th>\n",
       "      <th></th>\n",
       "      <th></th>\n",
       "      <th></th>\n",
       "    </tr>\n",
       "  </thead>\n",
       "  <tbody>\n",
       "    <tr>\n",
       "      <th>2</th>\n",
       "      <td>1992-04-22</td>\n",
       "      <td>1998-03-06</td>\n",
       "      <td>2144 days</td>\n",
       "    </tr>\n",
       "    <tr>\n",
       "      <th>4</th>\n",
       "      <td>1991-02-10</td>\n",
       "      <td>1992-08-26</td>\n",
       "      <td>563 days</td>\n",
       "    </tr>\n",
       "    <tr>\n",
       "      <th>5</th>\n",
       "      <td>1992-07-21</td>\n",
       "      <td>1997-11-20</td>\n",
       "      <td>1948 days</td>\n",
       "    </tr>\n",
       "    <tr>\n",
       "      <th>7</th>\n",
       "      <td>1993-09-02</td>\n",
       "      <td>1998-06-10</td>\n",
       "      <td>1742 days</td>\n",
       "    </tr>\n",
       "    <tr>\n",
       "      <th>9</th>\n",
       "      <td>1990-01-25</td>\n",
       "      <td>1994-10-02</td>\n",
       "      <td>1711 days</td>\n",
       "    </tr>\n",
       "    <tr>\n",
       "      <th>...</th>\n",
       "      <td>...</td>\n",
       "      <td>...</td>\n",
       "      <td>...</td>\n",
       "    </tr>\n",
       "    <tr>\n",
       "      <th>986</th>\n",
       "      <td>1990-12-10</td>\n",
       "      <td>1992-12-16</td>\n",
       "      <td>737 days</td>\n",
       "    </tr>\n",
       "    <tr>\n",
       "      <th>990</th>\n",
       "      <td>1991-06-24</td>\n",
       "      <td>1996-02-02</td>\n",
       "      <td>1684 days</td>\n",
       "    </tr>\n",
       "    <tr>\n",
       "      <th>991</th>\n",
       "      <td>1991-09-09</td>\n",
       "      <td>1998-03-30</td>\n",
       "      <td>2394 days</td>\n",
       "    </tr>\n",
       "    <tr>\n",
       "      <th>993</th>\n",
       "      <td>1990-11-16</td>\n",
       "      <td>1998-04-27</td>\n",
       "      <td>2719 days</td>\n",
       "    </tr>\n",
       "    <tr>\n",
       "      <th>997</th>\n",
       "      <td>1990-01-04</td>\n",
       "      <td>1991-10-03</td>\n",
       "      <td>637 days</td>\n",
       "    </tr>\n",
       "  </tbody>\n",
       "</table>\n",
       "<p>394 rows × 3 columns</p>\n",
       "</div>"
      ],
      "text/plain": [
       "    order_date delivery_date Order_delay\n",
       "ID                                      \n",
       "2   1992-04-22    1998-03-06   2144 days\n",
       "4   1991-02-10    1992-08-26    563 days\n",
       "5   1992-07-21    1997-11-20   1948 days\n",
       "7   1993-09-02    1998-06-10   1742 days\n",
       "9   1990-01-25    1994-10-02   1711 days\n",
       "..         ...           ...         ...\n",
       "986 1990-12-10    1992-12-16    737 days\n",
       "990 1991-06-24    1996-02-02   1684 days\n",
       "991 1991-09-09    1998-03-30   2394 days\n",
       "993 1990-11-16    1998-04-27   2719 days\n",
       "997 1990-01-04    1991-10-03    637 days\n",
       "\n",
       "[394 rows x 3 columns]"
      ]
     },
     "execution_count": 115,
     "metadata": {},
     "output_type": "execute_result"
    }
   ],
   "source": [
    "df[df['Order_delay'] > \"365 days\"]"
   ]
  },
  {
   "cell_type": "code",
   "execution_count": null,
   "metadata": {},
   "outputs": [],
   "source": []
  }
 ],
 "metadata": {
  "kernelspec": {
   "display_name": "Python 3",
   "language": "python",
   "name": "python3"
  },
  "language_info": {
   "codemirror_mode": {
    "name": "ipython",
    "version": 3
   },
   "file_extension": ".py",
   "mimetype": "text/x-python",
   "name": "python",
   "nbconvert_exporter": "python",
   "pygments_lexer": "ipython3",
   "version": "3.7.7"
  }
 },
 "nbformat": 4,
 "nbformat_minor": 4
}
