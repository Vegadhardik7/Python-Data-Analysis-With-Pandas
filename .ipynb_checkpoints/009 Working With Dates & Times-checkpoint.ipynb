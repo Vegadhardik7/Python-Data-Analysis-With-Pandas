{
 "cells": [
  {
   "cell_type": "code",
   "execution_count": 1,
   "metadata": {},
   "outputs": [],
   "source": [
    "import pandas as pd\n",
    "import datetime as dt"
   ]
  },
  {
   "cell_type": "markdown",
   "metadata": {},
   "source": [
    "# Review of python's datetime module"
   ]
  },
  {
   "cell_type": "markdown",
   "metadata": {},
   "source": [
    "### Date"
   ]
  },
  {
   "cell_type": "code",
   "execution_count": 2,
   "metadata": {},
   "outputs": [
    {
     "name": "stdout",
     "output_type": "stream",
     "text": [
      "Someday:  2016-04-12\n",
      "Year:  2016\n",
      "Month:  4\n",
      "Day:  12\n"
     ]
    }
   ],
   "source": [
    "someday = dt.date(2016, 4, 12)\n",
    "print(\"Someday: \", someday)\n",
    "\n",
    "print(\"Year: \",someday.year)\n",
    "\n",
    "print(\"Month: \",someday.month)\n",
    "\n",
    "print(\"Day: \",someday.day)"
   ]
  },
  {
   "cell_type": "markdown",
   "metadata": {},
   "source": [
    "### Datetime"
   ]
  },
  {
   "cell_type": "code",
   "execution_count": 3,
   "metadata": {},
   "outputs": [
    {
     "data": {
      "text/plain": [
       "datetime.datetime(2016, 1, 12, 0, 0)"
      ]
     },
     "execution_count": 3,
     "metadata": {},
     "output_type": "execute_result"
    }
   ],
   "source": [
    "dt.datetime(2016, 1, 12)"
   ]
  },
  {
   "cell_type": "code",
   "execution_count": 4,
   "metadata": {},
   "outputs": [
    {
     "data": {
      "text/plain": [
       "datetime.datetime(2016, 1, 12, 8, 15, 20)"
      ]
     },
     "execution_count": 4,
     "metadata": {},
     "output_type": "execute_result"
    }
   ],
   "source": [
    "dt.datetime(2016, 1, 12, 8, 15, 20)"
   ]
  },
  {
   "cell_type": "code",
   "execution_count": 5,
   "metadata": {},
   "outputs": [
    {
     "data": {
      "text/plain": [
       "'2016-01-12 08:15:20'"
      ]
     },
     "execution_count": 5,
     "metadata": {},
     "output_type": "execute_result"
    }
   ],
   "source": [
    "str(dt.datetime(2016, 1, 12, 8, 15, 20))"
   ]
  },
  {
   "cell_type": "code",
   "execution_count": 6,
   "metadata": {},
   "outputs": [
    {
     "name": "stdout",
     "output_type": "stream",
     "text": [
      "Sometime:  2016-01-12 08:15:20\n",
      "Year:  2016\n",
      "Month:  1\n",
      "Day:  12\n",
      "Hr:  8\n",
      "Mins:  15\n",
      "Sec:  20\n"
     ]
    }
   ],
   "source": [
    "sometime = dt.datetime(2016, 1, 12, 8, 15, 20)\n",
    "print(\"Sometime: \", sometime)\n",
    "\n",
    "print(\"Year: \",sometime.year)\n",
    "\n",
    "print(\"Month: \",sometime.month)\n",
    "\n",
    "print(\"Day: \",sometime.day)\n",
    "\n",
    "print(\"Hr: \",sometime.hour)\n",
    "\n",
    "print(\"Mins: \",sometime.minute)\n",
    "\n",
    "print(\"Sec: \",sometime.second)"
   ]
  },
  {
   "cell_type": "markdown",
   "metadata": {},
   "source": [
    "### Pandas Timestamp object"
   ]
  },
  {
   "cell_type": "code",
   "execution_count": 7,
   "metadata": {},
   "outputs": [
    {
     "name": "stdout",
     "output_type": "stream",
     "text": [
      "2015-03-01 00:00:00\n",
      "2015-03-01 00:00:00\n",
      "2015-03-01 00:00:00\n",
      "2015-03-01 00:00:00\n",
      "2012-03-22 00:00:00\n",
      "2016-03-23 06:35:30\n",
      "2016-03-23 18:35:30\n"
     ]
    }
   ],
   "source": [
    "print(pd.Timestamp(\"2015-03-01\"))      # YYYY-MM-DD\n",
    "\n",
    "print(pd.Timestamp(\"2015/03/01\"))      # YYYY-MM-DD\n",
    "\n",
    "print(pd.Timestamp(\"2015,01,03\"))      # YYYY-DD-MM  \n",
    "\n",
    "print(pd.Timestamp(\"3,1,15\"))          # MM-DD-YYYY\n",
    "\n",
    "print(pd.Timestamp(\"3/22/2012\"))       # Automatic Detection\n",
    "\n",
    "print(pd.Timestamp(\"2016-03-23 06:35:30\"))\n",
    "\n",
    "print(pd.Timestamp(\"2016-03-23 06:35:30 PM\"))"
   ]
  },
  {
   "cell_type": "markdown",
   "metadata": {},
   "source": [
    "### Pandas DateTimeIndex Object"
   ]
  },
  {
   "cell_type": "code",
   "execution_count": 8,
   "metadata": {},
   "outputs": [],
   "source": [
    "dates = ['2016-01-02','2019-05-12','2021-12-22']"
   ]
  },
  {
   "cell_type": "code",
   "execution_count": 9,
   "metadata": {},
   "outputs": [
    {
     "data": {
      "text/plain": [
       "DatetimeIndex(['2016-01-02', '2019-05-12', '2021-12-22'], dtype='datetime64[ns]', freq=None)"
      ]
     },
     "execution_count": 9,
     "metadata": {},
     "output_type": "execute_result"
    }
   ],
   "source": [
    "pd.DatetimeIndex(dates)"
   ]
  },
  {
   "cell_type": "code",
   "execution_count": 10,
   "metadata": {},
   "outputs": [
    {
     "data": {
      "text/plain": [
       "DatetimeIndex(['2016-01-10', '1994-06-13', '2003-12-23'], dtype='datetime64[ns]', freq=None)"
      ]
     },
     "execution_count": 10,
     "metadata": {},
     "output_type": "execute_result"
    }
   ],
   "source": [
    "dates = [dt.date(2016, 1, 10), dt.date(1994, 6, 13), dt.date(2003, 12, 23)]\n",
    "\n",
    "dt_index = pd.DatetimeIndex(dates)\n",
    "\n",
    "dt_index"
   ]
  },
  {
   "cell_type": "code",
   "execution_count": 11,
   "metadata": {},
   "outputs": [
    {
     "data": {
      "text/plain": [
       "2016-01-10    100\n",
       "1994-06-13    200\n",
       "2003-12-23    300\n",
       "dtype: int64"
      ]
     },
     "execution_count": 11,
     "metadata": {},
     "output_type": "execute_result"
    }
   ],
   "source": [
    "values = [100, 200, 300]\n",
    "pd.Series(data = values, index = dt_index)"
   ]
  },
  {
   "cell_type": "markdown",
   "metadata": {},
   "source": [
    "### pd.to_datetime() method"
   ]
  },
  {
   "cell_type": "code",
   "execution_count": 12,
   "metadata": {},
   "outputs": [
    {
     "name": "stdout",
     "output_type": "stream",
     "text": [
      "2009-04-19 00:00:00\n",
      "2005-01-01 00:00:00\n",
      "2015-01-01 14:35:22\n",
      "DatetimeIndex(['2015-09-12', '2015-09-12', '2016-01-01', '1996-07-04'], dtype='datetime64[ns]', freq=None)\n"
     ]
    }
   ],
   "source": [
    "print(pd.to_datetime(\"2009-04-19\"))\n",
    "\n",
    "print(pd.to_datetime(dt.date(2005,1,1)))\n",
    "\n",
    "print(pd.to_datetime(dt.datetime(2015,1,1, 14,35,22)))\n",
    "\n",
    "print(pd.to_datetime([\"2015-09-12\", \"2015/09/12\", \"2016\", \"July 4th, 1996\"]))"
   ]
  },
  {
   "cell_type": "code",
   "execution_count": 13,
   "metadata": {},
   "outputs": [
    {
     "data": {
      "text/plain": [
       "0   2015-09-12\n",
       "1   2015-09-12\n",
       "2   2016-01-01\n",
       "3   1996-07-04\n",
       "dtype: datetime64[ns]"
      ]
     },
     "execution_count": 13,
     "metadata": {},
     "output_type": "execute_result"
    }
   ],
   "source": [
    "values = pd.Series([\"2015-09-12\", \"2015/09/12\", \"2016\", \"July 4th, 1996\"])\n",
    "\n",
    "pd.to_datetime(values)"
   ]
  },
  {
   "cell_type": "code",
   "execution_count": 14,
   "metadata": {},
   "outputs": [
    {
     "data": {
      "text/plain": [
       "0   2015-09-12\n",
       "1   2015-09-12\n",
       "2          NaT\n",
       "3   2016-01-01\n",
       "4   1996-07-04\n",
       "5          NaT\n",
       "dtype: datetime64[ns]"
      ]
     },
     "execution_count": 14,
     "metadata": {},
     "output_type": "execute_result"
    }
   ],
   "source": [
    "values = pd.Series([\"2015-09-12\", \"2015/09/12\", \"Hello\", \"2016\", \"July 4th, 1996\", \"2015/28/28\"])\n",
    "\n",
    "pd.to_datetime(values, errors='coerce')  # errors='coerce' avoid errors "
   ]
  },
  {
   "cell_type": "markdown",
   "metadata": {},
   "source": [
    "### pd.date_range()"
   ]
  },
  {
   "cell_type": "code",
   "execution_count": 15,
   "metadata": {},
   "outputs": [
    {
     "data": {
      "text/plain": [
       "DatetimeIndex(['2016-01-01', '2016-01-02', '2016-01-03', '2016-01-04',\n",
       "               '2016-01-05', '2016-01-06', '2016-01-07', '2016-01-08',\n",
       "               '2016-01-09', '2016-01-10'],\n",
       "              dtype='datetime64[ns]', freq='D')"
      ]
     },
     "execution_count": 15,
     "metadata": {},
     "output_type": "execute_result"
    }
   ],
   "source": [
    "# 2 or more parameters are reqquired\n",
    "\n",
    "times = pd.date_range(start=\"2016-01-01\", end=\"2016-01-10\", freq='D')\n",
    "times"
   ]
  },
  {
   "cell_type": "code",
   "execution_count": 16,
   "metadata": {},
   "outputs": [
    {
     "data": {
      "text/plain": [
       "pandas.core.indexes.datetimes.DatetimeIndex"
      ]
     },
     "execution_count": 16,
     "metadata": {},
     "output_type": "execute_result"
    }
   ],
   "source": [
    "type(times)"
   ]
  },
  {
   "cell_type": "code",
   "execution_count": 17,
   "metadata": {},
   "outputs": [
    {
     "data": {
      "text/plain": [
       "Timestamp('2016-01-01 00:00:00', freq='D')"
      ]
     },
     "execution_count": 17,
     "metadata": {},
     "output_type": "execute_result"
    }
   ],
   "source": [
    "times[0]"
   ]
  },
  {
   "cell_type": "code",
   "execution_count": 18,
   "metadata": {},
   "outputs": [
    {
     "data": {
      "text/plain": [
       "DatetimeIndex(['2016-01-01', '2016-01-03', '2016-01-05', '2016-01-07',\n",
       "               '2016-01-09'],\n",
       "              dtype='datetime64[ns]', freq='2D')"
      ]
     },
     "execution_count": 18,
     "metadata": {},
     "output_type": "execute_result"
    }
   ],
   "source": [
    "times2 = pd.date_range(start=\"2016-01-01\", end=\"2016-01-10\", freq='2D')\n",
    "times2"
   ]
  },
  {
   "cell_type": "markdown",
   "metadata": {},
   "source": [
    "We can have:\n",
    "    \n",
    "B: For business days ( EXCLUDE WEEKDAYS )\n",
    "W: Day of the week\n",
    "W-SUN: Day of the week from which we wanna start"
   ]
  },
  {
   "cell_type": "code",
   "execution_count": null,
   "metadata": {},
   "outputs": [],
   "source": []
  },
  {
   "cell_type": "code",
   "execution_count": null,
   "metadata": {},
   "outputs": [],
   "source": []
  },
  {
   "cell_type": "code",
   "execution_count": null,
   "metadata": {},
   "outputs": [],
   "source": []
  },
  {
   "cell_type": "code",
   "execution_count": null,
   "metadata": {},
   "outputs": [],
   "source": []
  }
 ],
 "metadata": {
  "kernelspec": {
   "display_name": "Python 3",
   "language": "python",
   "name": "python3"
  },
  "language_info": {
   "codemirror_mode": {
    "name": "ipython",
    "version": 3
   },
   "file_extension": ".py",
   "mimetype": "text/x-python",
   "name": "python",
   "nbconvert_exporter": "python",
   "pygments_lexer": "ipython3",
   "version": "3.7.7"
  }
 },
 "nbformat": 4,
 "nbformat_minor": 4
}
